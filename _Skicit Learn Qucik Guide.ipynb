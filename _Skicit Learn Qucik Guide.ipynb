{
 "cells": [
  {
   "cell_type": "markdown",
   "id": "841c0e71",
   "metadata": {},
   "source": [
    "# Skicit Learn"
   ]
  },
  {
   "cell_type": "markdown",
   "id": "9d1c08e3",
   "metadata": {},
   "source": [
    "Scikit-learn is an open source machine learning library that supports supervised and unsupervised learning. It also provides various tools for model fitting, data preprocessing, model selection, model evaluation, and many other utilities."
   ]
  },
  {
   "cell_type": "markdown",
   "id": "0d0a2fb8",
   "metadata": {},
   "source": [
    "Basic Steps of Machine Learning\n",
    "1. Load the necessary libraries\n",
    "2. Load the dataset\n",
    "3. Split the dataset into training and test set\n",
    "4. Train the model\n",
    "5. Evaluate the model"
   ]
  },
  {
   "cell_type": "code",
   "execution_count": null,
   "id": "4f1a31bd",
   "metadata": {},
   "outputs": [],
   "source": [
    "#data loading using pandas\n",
    "import pandas as pd   \n",
    "df=pd.read_csv('file_name.csv')"
   ]
  },
  {
   "cell_type": "code",
   "execution_count": null,
   "id": "eb6e60ff",
   "metadata": {},
   "outputs": [],
   "source": [
    "#split data into training and test data\n",
    "\n",
    "from sklearn.model_selection import train_test_split\n",
    "X_train, X_test, y_train, y_test = train_test_split(X, y, test_size = 0.4, random_state=1)"
   ]
  },
  {
   "cell_type": "code",
   "execution_count": null,
   "id": "e60d526b",
   "metadata": {},
   "outputs": [],
   "source": [
    "#ML MODELS, training and fitting\n",
    "\n",
    "#Logistic Regression\n",
    "from sklearn.linear_model import LogisticRegression\n",
    "lr=LogisticRegression()\n",
    "\n",
    "\n",
    "#Linear Regression\n",
    "from sklearn.linear_model import LinearRegression\n",
    "lr = LinearRegression()\n",
    "\n",
    "\n",
    "#Support Vector Machine\n",
    "from sklearn.svm import SVC\n",
    "svc = SVC(kernel='linear')\n",
    "\n",
    "\n",
    "#Stochastic Gradient Descent Classifier\n",
    "from sklearn.linear_model import SGDClassifier\n",
    "\n",
    "\n",
    "#KNN (k-nearest neighbor)\n",
    "from sklearn.neighbors import KNeighborsClassifier\n",
    "knn=KNeighborsClassifier(n_neighbors=1)\n",
    "\n",
    "#Decision Tree\n",
    "from sklearn.tree import DecisionTreeClassifier\n",
    "\n",
    "#Random Forest\n",
    "from sklearn.ensemble import RandomForestClassifier\n",
    "\n",
    "\n",
    "#XGBoost Classifier\n",
    "from xgboost.sklearn import XGBClassifier\n",
    "\n"
   ]
  },
  {
   "cell_type": "code",
   "execution_count": null,
   "id": "153491bf",
   "metadata": {},
   "outputs": [],
   "source": [
    "#Cross Validation\n",
    "from sklearn.cross_validation import cross_val_score \n",
    "print(cross_val_score(knn, X_train, y_train, cv=4)) \n"
   ]
  },
  {
   "cell_type": "code",
   "execution_count": null,
   "id": "92db6792",
   "metadata": {},
   "outputs": [],
   "source": [
    "from sklearn.modulename import EstimatorName      # 0. Import\n",
    "model = EstimatorName()                           # 1. Instance of estimator\n",
    "model.fit(X_train, y_train)                       # 2. Fit\n",
    "model.predict(X_test)                             # 3. Predict\n",
    "model.score(X_test, y_test)                       # 4. Score\n",
    "\n",
    "\n",
    "#example\n",
    "\n",
    "lr=LinearRegression()\n",
    "lr.fit(X_train,y_train)\n",
    "lr.predict(X_test)\n",
    "lr.score(X_test,y_test)\n",
    "\n",
    "\n",
    "from sklearn.ensemble import RandomForestClassifier\n",
    "rf = RandomForestClassifier(max_features=5, n_estimators=100)\n",
    "rf.fit(X_train, y_train)\n",
    "y_pred = rf.predict(X_test)\n",
    "rf.score(X_test, y_test)"
   ]
  },
  {
   "cell_type": "code",
   "execution_count": null,
   "id": "f45c632e",
   "metadata": {},
   "outputs": [],
   "source": []
  },
  {
   "cell_type": "code",
   "execution_count": null,
   "id": "b252a34e",
   "metadata": {},
   "outputs": [],
   "source": []
  },
  {
   "cell_type": "code",
   "execution_count": null,
   "id": "60fc8f83",
   "metadata": {},
   "outputs": [],
   "source": []
  }
 ],
 "metadata": {
  "kernelspec": {
   "display_name": "Python 3 (ipykernel)",
   "language": "python",
   "name": "python3"
  },
  "language_info": {
   "codemirror_mode": {
    "name": "ipython",
    "version": 3
   },
   "file_extension": ".py",
   "mimetype": "text/x-python",
   "name": "python",
   "nbconvert_exporter": "python",
   "pygments_lexer": "ipython3",
   "version": "3.9.12"
  }
 },
 "nbformat": 4,
 "nbformat_minor": 5
}
