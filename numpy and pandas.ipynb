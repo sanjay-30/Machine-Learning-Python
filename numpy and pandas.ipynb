{
 "cells": [
  {
   "cell_type": "code",
   "execution_count": 1,
   "id": "a28be97f",
   "metadata": {},
   "outputs": [
    {
     "name": "stdout",
     "output_type": "stream",
     "text": [
      "3.9.12 (main, Apr  4 2022, 05:22:27) [MSC v.1916 64 bit (AMD64)]\n",
      "1.21.5\n"
     ]
    }
   ],
   "source": [
    "import sys\n",
    "import numpy as np\n",
    "\n",
    "print(sys.version)\n",
    "print(np.__version__)"
   ]
  },
  {
   "cell_type": "code",
   "execution_count": 23,
   "id": "b8838e70",
   "metadata": {},
   "outputs": [
    {
     "name": "stdout",
     "output_type": "stream",
     "text": [
      "x     = [0 1 2 3]\n",
      "x + 5 = [5 6 7 8]\n",
      "x - 5 = [-5 -4 -3 -2]\n",
      "x * 2 = [0 2 4 6]\n",
      "x / 2 = [0.  0.5 1.  1.5]\n"
     ]
    }
   ],
   "source": [
    "x = np.arange(4)\n",
    "print(\"x     =\", x)\n",
    "print(\"x + 5 =\", x + 5)\n",
    "print(\"x - 5 =\", x - 5)\n",
    "print(\"x * 2 =\", x * 2)\n",
    "print(\"x / 2 =\", x / 2)"
   ]
  },
  {
   "cell_type": "code",
   "execution_count": 24,
   "id": "c3678b42",
   "metadata": {},
   "outputs": [
    {
     "data": {
      "text/plain": [
       "array([2, 1, 0, 1, 2])"
      ]
     },
     "execution_count": 24,
     "metadata": {},
     "output_type": "execute_result"
    }
   ],
   "source": [
    "x = np.array([-2, -1, 0, 1, 2])\n",
    "abs(x)\n"
   ]
  },
  {
   "cell_type": "code",
   "execution_count": 25,
   "id": "81c5a2b4",
   "metadata": {},
   "outputs": [
    {
     "data": {
      "text/plain": [
       "array([0., 0., 0., 0., 0., 0., 0., 0., 0., 0.])"
      ]
     },
     "execution_count": 25,
     "metadata": {},
     "output_type": "execute_result"
    }
   ],
   "source": [
    "y = np.zeros(10)\n",
    "y"
   ]
  },
  {
   "cell_type": "code",
   "execution_count": null,
   "id": "6a34c670",
   "metadata": {},
   "outputs": [],
   "source": []
  },
  {
   "cell_type": "code",
   "execution_count": null,
   "id": "27fb9041",
   "metadata": {},
   "outputs": [],
   "source": []
  },
  {
   "cell_type": "code",
   "execution_count": 2,
   "id": "3405d1b0",
   "metadata": {},
   "outputs": [
    {
     "data": {
      "text/plain": [
       "array([[0.91505112, 0.5755043 , 0.53241202],\n",
       "       [0.44977522, 0.53441395, 0.59017638],\n",
       "       [0.00570875, 0.00485751, 0.20109792],\n",
       "       [0.78107135, 0.8216846 , 0.20116519],\n",
       "       [0.4117789 , 0.91661655, 0.20696845]])"
      ]
     },
     "execution_count": 2,
     "metadata": {},
     "output_type": "execute_result"
    }
   ],
   "source": [
    "x = np.random.rand(5,3)\n",
    "x"
   ]
  },
  {
   "cell_type": "code",
   "execution_count": 3,
   "id": "928cc6e9",
   "metadata": {},
   "outputs": [
    {
     "data": {
      "text/plain": [
       "(5, 3)"
      ]
     },
     "execution_count": 3,
     "metadata": {},
     "output_type": "execute_result"
    }
   ],
   "source": [
    "x.shape"
   ]
  },
  {
   "cell_type": "code",
   "execution_count": 4,
   "id": "437c36d8",
   "metadata": {},
   "outputs": [
    {
     "data": {
      "text/plain": [
       "dtype('float64')"
      ]
     },
     "execution_count": 4,
     "metadata": {},
     "output_type": "execute_result"
    }
   ],
   "source": [
    "x.dtype"
   ]
  },
  {
   "cell_type": "code",
   "execution_count": 5,
   "id": "6058a335",
   "metadata": {},
   "outputs": [],
   "source": [
    "x1 = np.random.randint(10, size=6)  # One-dimensional array\n",
    "x2 = np.random.randint(10, size=(3, 4))  # Two-dimensional array\n",
    "x3 = np.random.randint(10, size=(3, 4, 5))  # Three-dimensional array"
   ]
  },
  {
   "cell_type": "code",
   "execution_count": 7,
   "id": "0120cbc9",
   "metadata": {},
   "outputs": [
    {
     "data": {
      "text/plain": [
       "array([7, 1, 1, 4, 5, 8])"
      ]
     },
     "execution_count": 7,
     "metadata": {},
     "output_type": "execute_result"
    }
   ],
   "source": [
    "x1"
   ]
  },
  {
   "cell_type": "code",
   "execution_count": 8,
   "id": "9b6589fa",
   "metadata": {},
   "outputs": [
    {
     "data": {
      "text/plain": [
       "array([[9, 5, 1, 4],\n",
       "       [2, 9, 5, 4],\n",
       "       [5, 7, 9, 0]])"
      ]
     },
     "execution_count": 8,
     "metadata": {},
     "output_type": "execute_result"
    }
   ],
   "source": [
    "x2"
   ]
  },
  {
   "cell_type": "code",
   "execution_count": 9,
   "id": "d3de3cd5",
   "metadata": {},
   "outputs": [
    {
     "data": {
      "text/plain": [
       "array([[[6, 0, 2, 1, 6],\n",
       "        [6, 9, 4, 6, 3],\n",
       "        [8, 6, 5, 6, 1],\n",
       "        [5, 9, 7, 6, 1]],\n",
       "\n",
       "       [[9, 3, 7, 9, 0],\n",
       "        [2, 9, 9, 6, 8],\n",
       "        [4, 8, 6, 3, 7],\n",
       "        [2, 2, 2, 4, 1]],\n",
       "\n",
       "       [[0, 2, 3, 0, 5],\n",
       "        [0, 8, 8, 5, 4],\n",
       "        [2, 1, 0, 3, 8],\n",
       "        [8, 8, 5, 2, 3]]])"
      ]
     },
     "execution_count": 9,
     "metadata": {},
     "output_type": "execute_result"
    }
   ],
   "source": [
    "x3"
   ]
  },
  {
   "cell_type": "code",
   "execution_count": 10,
   "id": "c93c6ee2",
   "metadata": {},
   "outputs": [
    {
     "data": {
      "text/plain": [
       "7"
      ]
     },
     "execution_count": 10,
     "metadata": {},
     "output_type": "execute_result"
    }
   ],
   "source": [
    "x1[0]"
   ]
  },
  {
   "cell_type": "code",
   "execution_count": 11,
   "id": "6c4e7a92",
   "metadata": {},
   "outputs": [
    {
     "data": {
      "text/plain": [
       "9"
      ]
     },
     "execution_count": 11,
     "metadata": {},
     "output_type": "execute_result"
    }
   ],
   "source": [
    "x2[1,1]"
   ]
  },
  {
   "cell_type": "code",
   "execution_count": 12,
   "id": "363e530e",
   "metadata": {},
   "outputs": [
    {
     "data": {
      "text/plain": [
       "9"
      ]
     },
     "execution_count": 12,
     "metadata": {},
     "output_type": "execute_result"
    }
   ],
   "source": [
    "x2[0, 0]"
   ]
  },
  {
   "cell_type": "markdown",
   "id": "3df1e77b",
   "metadata": {},
   "source": [
    "# slicing"
   ]
  },
  {
   "cell_type": "code",
   "execution_count": 13,
   "id": "03cdf38c",
   "metadata": {},
   "outputs": [
    {
     "data": {
      "text/plain": [
       "array([0, 1, 2, 3, 4, 5, 6, 7, 8, 9])"
      ]
     },
     "execution_count": 13,
     "metadata": {},
     "output_type": "execute_result"
    }
   ],
   "source": [
    "x = np.arange(10)\n",
    "x"
   ]
  },
  {
   "cell_type": "code",
   "execution_count": 14,
   "id": "7b73fb7b",
   "metadata": {},
   "outputs": [
    {
     "data": {
      "text/plain": [
       "array([0, 1, 2, 3, 4])"
      ]
     },
     "execution_count": 14,
     "metadata": {},
     "output_type": "execute_result"
    }
   ],
   "source": [
    "x[:5]  # first five elements"
   ]
  },
  {
   "cell_type": "code",
   "execution_count": 15,
   "id": "578538ba",
   "metadata": {},
   "outputs": [
    {
     "data": {
      "text/plain": [
       "array([5, 6, 7, 8, 9])"
      ]
     },
     "execution_count": 15,
     "metadata": {},
     "output_type": "execute_result"
    }
   ],
   "source": [
    "x[5:] #elements after index 5"
   ]
  },
  {
   "cell_type": "code",
   "execution_count": 16,
   "id": "6c2dd2fc",
   "metadata": {},
   "outputs": [
    {
     "data": {
      "text/plain": [
       "array([4, 5, 6])"
      ]
     },
     "execution_count": 16,
     "metadata": {},
     "output_type": "execute_result"
    }
   ],
   "source": [
    "x[4:7]  # middle sub-array"
   ]
  },
  {
   "cell_type": "markdown",
   "id": "886a0be3",
   "metadata": {},
   "source": [
    "# multi dimensional arrays"
   ]
  },
  {
   "cell_type": "code",
   "execution_count": 18,
   "id": "18eb3135",
   "metadata": {},
   "outputs": [
    {
     "data": {
      "text/plain": [
       "array([[9, 5, 1, 4],\n",
       "       [2, 9, 5, 4],\n",
       "       [5, 7, 9, 0]])"
      ]
     },
     "execution_count": 18,
     "metadata": {},
     "output_type": "execute_result"
    }
   ],
   "source": [
    "x2\n"
   ]
  },
  {
   "cell_type": "code",
   "execution_count": 19,
   "id": "b755ec02",
   "metadata": {},
   "outputs": [
    {
     "data": {
      "text/plain": [
       "array([[9, 5, 1],\n",
       "       [2, 9, 5]])"
      ]
     },
     "execution_count": 19,
     "metadata": {},
     "output_type": "execute_result"
    }
   ],
   "source": [
    "x2[:2, :3]  # two rows, three columns"
   ]
  },
  {
   "cell_type": "code",
   "execution_count": 20,
   "id": "21e932f5",
   "metadata": {},
   "outputs": [
    {
     "data": {
      "text/plain": [
       "array([1, 2, 3, 3, 2, 1])"
      ]
     },
     "execution_count": 20,
     "metadata": {},
     "output_type": "execute_result"
    }
   ],
   "source": [
    "x = np.array([1, 2, 3])\n",
    "y = np.array([3, 2, 1])\n",
    "np.concatenate([x, y])     #concating two arrays or more"
   ]
  },
  {
   "cell_type": "code",
   "execution_count": 21,
   "id": "53120a9c",
   "metadata": {},
   "outputs": [],
   "source": [
    "a1 = np.array([[1, 2, 3],\n",
    "                 [4, 5, 6]])"
   ]
  },
  {
   "cell_type": "code",
   "execution_count": 22,
   "id": "cf0239b1",
   "metadata": {},
   "outputs": [
    {
     "data": {
      "text/plain": [
       "array([[1, 2, 3],\n",
       "       [4, 5, 6],\n",
       "       [1, 2, 3],\n",
       "       [4, 5, 6]])"
      ]
     },
     "execution_count": 22,
     "metadata": {},
     "output_type": "execute_result"
    }
   ],
   "source": [
    "np.concatenate([a1,a1]) #also concate 2d arrays"
   ]
  },
  {
   "cell_type": "code",
   "execution_count": 27,
   "id": "defd8ad4",
   "metadata": {},
   "outputs": [
    {
     "data": {
      "text/plain": [
       "a    0.25\n",
       "b    0.50\n",
       "c    0.75\n",
       "d    1.00\n",
       "dtype: float64"
      ]
     },
     "execution_count": 27,
     "metadata": {},
     "output_type": "execute_result"
    }
   ],
   "source": [
    "import pandas as pd\n",
    "data = pd.Series([0.25, 0.5, 0.75, 1.0],\n",
    "                 index=['a', 'b', 'c', 'd'])\n",
    "data"
   ]
  },
  {
   "cell_type": "code",
   "execution_count": 29,
   "id": "8cd63be9",
   "metadata": {},
   "outputs": [
    {
     "name": "stdout",
     "output_type": "stream",
     "text": [
      "0.25\n",
      "0.5\n",
      "0.75\n",
      "1.0\n"
     ]
    }
   ],
   "source": [
    "print(data['a'])\n",
    "print(data['b'])\n",
    "print(data['c'])\n",
    "print(data['d'])"
   ]
  },
  {
   "cell_type": "code",
   "execution_count": 34,
   "id": "e57cf432",
   "metadata": {},
   "outputs": [
    {
     "data": {
      "text/plain": [
       "array([[25, 19],\n",
       "       [ 2, 33],\n",
       "       [34, 35],\n",
       "       [41, 43]])"
      ]
     },
     "execution_count": 34,
     "metadata": {},
     "output_type": "execute_result"
    }
   ],
   "source": [
    "np.random.randint(0,50,8).reshape(4,2)"
   ]
  },
  {
   "cell_type": "code",
   "execution_count": 35,
   "id": "f77498fd",
   "metadata": {},
   "outputs": [
    {
     "data": {
      "text/plain": [
       "array([[0.00932937, 0.69392925, 0.88460897, 0.50664081, 0.51437336]])"
      ]
     },
     "execution_count": 35,
     "metadata": {},
     "output_type": "execute_result"
    }
   ],
   "source": [
    "np.random.random_sample((1,5))"
   ]
  },
  {
   "cell_type": "code",
   "execution_count": 36,
   "id": "4a32a09b",
   "metadata": {},
   "outputs": [
    {
     "data": {
      "text/plain": [
       "array([[1, 1, 1, 1, 1],\n",
       "       [1, 1, 1, 1, 1]])"
      ]
     },
     "execution_count": 36,
     "metadata": {},
     "output_type": "execute_result"
    }
   ],
   "source": [
    "np.ones((2,5),dtype=int)"
   ]
  },
  {
   "cell_type": "markdown",
   "id": "0029de83",
   "metadata": {},
   "source": [
    "# Pandas"
   ]
  },
  {
   "cell_type": "code",
   "execution_count": 37,
   "id": "f561ec6d",
   "metadata": {},
   "outputs": [],
   "source": [
    "df=pd.DataFrame(np.arange(0,20).reshape(5,4))"
   ]
  },
  {
   "cell_type": "code",
   "execution_count": 38,
   "id": "c677f844",
   "metadata": {},
   "outputs": [
    {
     "data": {
      "text/html": [
       "<div>\n",
       "<style scoped>\n",
       "    .dataframe tbody tr th:only-of-type {\n",
       "        vertical-align: middle;\n",
       "    }\n",
       "\n",
       "    .dataframe tbody tr th {\n",
       "        vertical-align: top;\n",
       "    }\n",
       "\n",
       "    .dataframe thead th {\n",
       "        text-align: right;\n",
       "    }\n",
       "</style>\n",
       "<table border=\"1\" class=\"dataframe\">\n",
       "  <thead>\n",
       "    <tr style=\"text-align: right;\">\n",
       "      <th></th>\n",
       "      <th>0</th>\n",
       "      <th>1</th>\n",
       "      <th>2</th>\n",
       "      <th>3</th>\n",
       "    </tr>\n",
       "  </thead>\n",
       "  <tbody>\n",
       "    <tr>\n",
       "      <th>0</th>\n",
       "      <td>0</td>\n",
       "      <td>1</td>\n",
       "      <td>2</td>\n",
       "      <td>3</td>\n",
       "    </tr>\n",
       "    <tr>\n",
       "      <th>1</th>\n",
       "      <td>4</td>\n",
       "      <td>5</td>\n",
       "      <td>6</td>\n",
       "      <td>7</td>\n",
       "    </tr>\n",
       "    <tr>\n",
       "      <th>2</th>\n",
       "      <td>8</td>\n",
       "      <td>9</td>\n",
       "      <td>10</td>\n",
       "      <td>11</td>\n",
       "    </tr>\n",
       "    <tr>\n",
       "      <th>3</th>\n",
       "      <td>12</td>\n",
       "      <td>13</td>\n",
       "      <td>14</td>\n",
       "      <td>15</td>\n",
       "    </tr>\n",
       "    <tr>\n",
       "      <th>4</th>\n",
       "      <td>16</td>\n",
       "      <td>17</td>\n",
       "      <td>18</td>\n",
       "      <td>19</td>\n",
       "    </tr>\n",
       "  </tbody>\n",
       "</table>\n",
       "</div>"
      ],
      "text/plain": [
       "    0   1   2   3\n",
       "0   0   1   2   3\n",
       "1   4   5   6   7\n",
       "2   8   9  10  11\n",
       "3  12  13  14  15\n",
       "4  16  17  18  19"
      ]
     },
     "execution_count": 38,
     "metadata": {},
     "output_type": "execute_result"
    }
   ],
   "source": [
    "df"
   ]
  },
  {
   "cell_type": "code",
   "execution_count": 43,
   "id": "48fb599e",
   "metadata": {},
   "outputs": [],
   "source": [
    "#df=pd.DataFrame(np.arange(0,20).reshape(5,4),index=['Row1','Row2','Row3','Row4','Row5'],columns=[\"Column1\",\"Column2\",\"Column3\",\"Coumn4\"])\n"
   ]
  },
  {
   "cell_type": "code",
   "execution_count": 47,
   "id": "f607289e",
   "metadata": {},
   "outputs": [
    {
     "name": "stdout",
     "output_type": "stream",
     "text": [
      "    cars  passings\n",
      "0    BMW         3\n",
      "1  Volvo         7\n",
      "2   Ford         2\n"
     ]
    }
   ],
   "source": [
    "mydataset = {\n",
    "  'cars': [\"BMW\", \"Volvo\", \"Ford\"],\n",
    "  'passings': [3, 7, 2]\n",
    "}\n",
    "\n",
    "df = pd.DataFrame(mydataset)\n",
    "\n",
    "print(df)"
   ]
  },
  {
   "cell_type": "code",
   "execution_count": 48,
   "id": "58015c60",
   "metadata": {},
   "outputs": [
    {
     "data": {
      "text/plain": [
       "cars        BMW\n",
       "passings      3\n",
       "Name: 0, dtype: object"
      ]
     },
     "execution_count": 48,
     "metadata": {},
     "output_type": "execute_result"
    }
   ],
   "source": [
    "df.loc[0]"
   ]
  },
  {
   "cell_type": "code",
   "execution_count": 49,
   "id": "d8b4e5dc",
   "metadata": {},
   "outputs": [
    {
     "name": "stdout",
     "output_type": "stream",
     "text": [
      "    cars  passings\n",
      "0    BMW         3\n",
      "1  Volvo         7\n"
     ]
    }
   ],
   "source": [
    "print(df.loc[[0, 1]])"
   ]
  },
  {
   "cell_type": "code",
   "execution_count": 50,
   "id": "ff886b91",
   "metadata": {},
   "outputs": [
    {
     "name": "stdout",
     "output_type": "stream",
     "text": [
      "      calories  duration\n",
      "day1       420        50\n",
      "day2       380        40\n",
      "day3       390        45\n"
     ]
    }
   ],
   "source": [
    "data = {\n",
    "  \"calories\": [420, 380, 390],\n",
    "  \"duration\": [50, 40, 45]\n",
    "}\n",
    "\n",
    "df = pd.DataFrame(data, index = [\"day1\", \"day2\", \"day3\"])\n",
    "\n",
    "print(df) "
   ]
  },
  {
   "cell_type": "code",
   "execution_count": 52,
   "id": "11f27429",
   "metadata": {},
   "outputs": [
    {
     "name": "stdout",
     "output_type": "stream",
     "text": [
      "<class 'pandas.core.frame.DataFrame'>\n",
      "Index: 3 entries, day1 to day3\n",
      "Data columns (total 2 columns):\n",
      " #   Column    Non-Null Count  Dtype\n",
      "---  ------    --------------  -----\n",
      " 0   calories  3 non-null      int64\n",
      " 1   duration  3 non-null      int64\n",
      "dtypes: int64(2)\n",
      "memory usage: 72.0+ bytes\n"
     ]
    }
   ],
   "source": [
    "df.info()"
   ]
  },
  {
   "cell_type": "code",
   "execution_count": 66,
   "id": "d90e4c95",
   "metadata": {},
   "outputs": [
    {
     "data": {
      "text/html": [
       "<div>\n",
       "<style scoped>\n",
       "    .dataframe tbody tr th:only-of-type {\n",
       "        vertical-align: middle;\n",
       "    }\n",
       "\n",
       "    .dataframe tbody tr th {\n",
       "        vertical-align: top;\n",
       "    }\n",
       "\n",
       "    .dataframe thead th {\n",
       "        text-align: right;\n",
       "    }\n",
       "</style>\n",
       "<table border=\"1\" class=\"dataframe\">\n",
       "  <thead>\n",
       "    <tr style=\"text-align: right;\">\n",
       "      <th></th>\n",
       "      <th>Duration</th>\n",
       "      <th>Date</th>\n",
       "      <th>Pulse</th>\n",
       "      <th>Maxpulse</th>\n",
       "      <th>Calories</th>\n",
       "    </tr>\n",
       "  </thead>\n",
       "  <tbody>\n",
       "    <tr>\n",
       "      <th>0</th>\n",
       "      <td>60</td>\n",
       "      <td>'2020/12/01'</td>\n",
       "      <td>110</td>\n",
       "      <td>130</td>\n",
       "      <td>409.1</td>\n",
       "    </tr>\n",
       "    <tr>\n",
       "      <th>1</th>\n",
       "      <td>60</td>\n",
       "      <td>'2020/12/02'</td>\n",
       "      <td>117</td>\n",
       "      <td>145</td>\n",
       "      <td>479.0</td>\n",
       "    </tr>\n",
       "    <tr>\n",
       "      <th>2</th>\n",
       "      <td>60</td>\n",
       "      <td>'2020/12/03'</td>\n",
       "      <td>103</td>\n",
       "      <td>135</td>\n",
       "      <td>340.0</td>\n",
       "    </tr>\n",
       "    <tr>\n",
       "      <th>3</th>\n",
       "      <td>45</td>\n",
       "      <td>'2020/12/04'</td>\n",
       "      <td>109</td>\n",
       "      <td>175</td>\n",
       "      <td>282.4</td>\n",
       "    </tr>\n",
       "    <tr>\n",
       "      <th>4</th>\n",
       "      <td>45</td>\n",
       "      <td>'2020/12/05'</td>\n",
       "      <td>117</td>\n",
       "      <td>148</td>\n",
       "      <td>406.0</td>\n",
       "    </tr>\n",
       "    <tr>\n",
       "      <th>5</th>\n",
       "      <td>60</td>\n",
       "      <td>'2020/12/06'</td>\n",
       "      <td>102</td>\n",
       "      <td>127</td>\n",
       "      <td>300.0</td>\n",
       "    </tr>\n",
       "    <tr>\n",
       "      <th>6</th>\n",
       "      <td>60</td>\n",
       "      <td>'2020/12/07'</td>\n",
       "      <td>110</td>\n",
       "      <td>136</td>\n",
       "      <td>374.0</td>\n",
       "    </tr>\n",
       "    <tr>\n",
       "      <th>7</th>\n",
       "      <td>450</td>\n",
       "      <td>'2020/12/08'</td>\n",
       "      <td>104</td>\n",
       "      <td>134</td>\n",
       "      <td>253.3</td>\n",
       "    </tr>\n",
       "    <tr>\n",
       "      <th>8</th>\n",
       "      <td>30</td>\n",
       "      <td>'2020/12/09'</td>\n",
       "      <td>109</td>\n",
       "      <td>133</td>\n",
       "      <td>195.1</td>\n",
       "    </tr>\n",
       "    <tr>\n",
       "      <th>9</th>\n",
       "      <td>60</td>\n",
       "      <td>'2020/12/10'</td>\n",
       "      <td>98</td>\n",
       "      <td>124</td>\n",
       "      <td>269.0</td>\n",
       "    </tr>\n",
       "    <tr>\n",
       "      <th>10</th>\n",
       "      <td>60</td>\n",
       "      <td>'2020/12/11'</td>\n",
       "      <td>103</td>\n",
       "      <td>147</td>\n",
       "      <td>329.3</td>\n",
       "    </tr>\n",
       "    <tr>\n",
       "      <th>11</th>\n",
       "      <td>60</td>\n",
       "      <td>'2020/12/12'</td>\n",
       "      <td>100</td>\n",
       "      <td>120</td>\n",
       "      <td>250.7</td>\n",
       "    </tr>\n",
       "    <tr>\n",
       "      <th>12</th>\n",
       "      <td>60</td>\n",
       "      <td>'2020/12/12'</td>\n",
       "      <td>100</td>\n",
       "      <td>120</td>\n",
       "      <td>250.7</td>\n",
       "    </tr>\n",
       "    <tr>\n",
       "      <th>13</th>\n",
       "      <td>60</td>\n",
       "      <td>'2020/12/13'</td>\n",
       "      <td>106</td>\n",
       "      <td>128</td>\n",
       "      <td>345.3</td>\n",
       "    </tr>\n",
       "    <tr>\n",
       "      <th>14</th>\n",
       "      <td>60</td>\n",
       "      <td>'2020/12/14'</td>\n",
       "      <td>104</td>\n",
       "      <td>132</td>\n",
       "      <td>379.3</td>\n",
       "    </tr>\n",
       "    <tr>\n",
       "      <th>15</th>\n",
       "      <td>60</td>\n",
       "      <td>'2020/12/15'</td>\n",
       "      <td>98</td>\n",
       "      <td>123</td>\n",
       "      <td>275.0</td>\n",
       "    </tr>\n",
       "    <tr>\n",
       "      <th>16</th>\n",
       "      <td>60</td>\n",
       "      <td>'2020/12/16'</td>\n",
       "      <td>98</td>\n",
       "      <td>120</td>\n",
       "      <td>215.2</td>\n",
       "    </tr>\n",
       "    <tr>\n",
       "      <th>17</th>\n",
       "      <td>60</td>\n",
       "      <td>'2020/12/17'</td>\n",
       "      <td>100</td>\n",
       "      <td>120</td>\n",
       "      <td>300.0</td>\n",
       "    </tr>\n",
       "    <tr>\n",
       "      <th>18</th>\n",
       "      <td>45</td>\n",
       "      <td>'2020/12/18'</td>\n",
       "      <td>90</td>\n",
       "      <td>112</td>\n",
       "      <td>NaN</td>\n",
       "    </tr>\n",
       "    <tr>\n",
       "      <th>19</th>\n",
       "      <td>60</td>\n",
       "      <td>'2020/12/19'</td>\n",
       "      <td>103</td>\n",
       "      <td>123</td>\n",
       "      <td>323.0</td>\n",
       "    </tr>\n",
       "    <tr>\n",
       "      <th>20</th>\n",
       "      <td>45</td>\n",
       "      <td>'2020/12/20'</td>\n",
       "      <td>97</td>\n",
       "      <td>125</td>\n",
       "      <td>243.0</td>\n",
       "    </tr>\n",
       "    <tr>\n",
       "      <th>21</th>\n",
       "      <td>60</td>\n",
       "      <td>'2020/12/21'</td>\n",
       "      <td>108</td>\n",
       "      <td>131</td>\n",
       "      <td>364.2</td>\n",
       "    </tr>\n",
       "    <tr>\n",
       "      <th>22</th>\n",
       "      <td>45</td>\n",
       "      <td>NaN</td>\n",
       "      <td>100</td>\n",
       "      <td>119</td>\n",
       "      <td>282.0</td>\n",
       "    </tr>\n",
       "    <tr>\n",
       "      <th>23</th>\n",
       "      <td>60</td>\n",
       "      <td>'2020/12/23'</td>\n",
       "      <td>130</td>\n",
       "      <td>101</td>\n",
       "      <td>300.0</td>\n",
       "    </tr>\n",
       "    <tr>\n",
       "      <th>24</th>\n",
       "      <td>45</td>\n",
       "      <td>'2020/12/24'</td>\n",
       "      <td>105</td>\n",
       "      <td>132</td>\n",
       "      <td>246.0</td>\n",
       "    </tr>\n",
       "    <tr>\n",
       "      <th>25</th>\n",
       "      <td>60</td>\n",
       "      <td>'2020/12/25'</td>\n",
       "      <td>102</td>\n",
       "      <td>126</td>\n",
       "      <td>334.5</td>\n",
       "    </tr>\n",
       "    <tr>\n",
       "      <th>26</th>\n",
       "      <td>60</td>\n",
       "      <td>20201226</td>\n",
       "      <td>100</td>\n",
       "      <td>120</td>\n",
       "      <td>250.0</td>\n",
       "    </tr>\n",
       "    <tr>\n",
       "      <th>27</th>\n",
       "      <td>60</td>\n",
       "      <td>'2020/12/27'</td>\n",
       "      <td>92</td>\n",
       "      <td>118</td>\n",
       "      <td>241.0</td>\n",
       "    </tr>\n",
       "    <tr>\n",
       "      <th>28</th>\n",
       "      <td>60</td>\n",
       "      <td>'2020/12/28'</td>\n",
       "      <td>103</td>\n",
       "      <td>132</td>\n",
       "      <td>NaN</td>\n",
       "    </tr>\n",
       "    <tr>\n",
       "      <th>29</th>\n",
       "      <td>60</td>\n",
       "      <td>'2020/12/29'</td>\n",
       "      <td>100</td>\n",
       "      <td>132</td>\n",
       "      <td>280.0</td>\n",
       "    </tr>\n",
       "    <tr>\n",
       "      <th>30</th>\n",
       "      <td>60</td>\n",
       "      <td>'2020/12/30'</td>\n",
       "      <td>102</td>\n",
       "      <td>129</td>\n",
       "      <td>380.3</td>\n",
       "    </tr>\n",
       "    <tr>\n",
       "      <th>31</th>\n",
       "      <td>60</td>\n",
       "      <td>'2020/12/31'</td>\n",
       "      <td>92</td>\n",
       "      <td>115</td>\n",
       "      <td>243.0</td>\n",
       "    </tr>\n",
       "  </tbody>\n",
       "</table>\n",
       "</div>"
      ],
      "text/plain": [
       "    Duration          Date  Pulse  Maxpulse  Calories\n",
       "0         60  '2020/12/01'    110       130     409.1\n",
       "1         60  '2020/12/02'    117       145     479.0\n",
       "2         60  '2020/12/03'    103       135     340.0\n",
       "3         45  '2020/12/04'    109       175     282.4\n",
       "4         45  '2020/12/05'    117       148     406.0\n",
       "5         60  '2020/12/06'    102       127     300.0\n",
       "6         60  '2020/12/07'    110       136     374.0\n",
       "7        450  '2020/12/08'    104       134     253.3\n",
       "8         30  '2020/12/09'    109       133     195.1\n",
       "9         60  '2020/12/10'     98       124     269.0\n",
       "10        60  '2020/12/11'    103       147     329.3\n",
       "11        60  '2020/12/12'    100       120     250.7\n",
       "12        60  '2020/12/12'    100       120     250.7\n",
       "13        60  '2020/12/13'    106       128     345.3\n",
       "14        60  '2020/12/14'    104       132     379.3\n",
       "15        60  '2020/12/15'     98       123     275.0\n",
       "16        60  '2020/12/16'     98       120     215.2\n",
       "17        60  '2020/12/17'    100       120     300.0\n",
       "18        45  '2020/12/18'     90       112       NaN\n",
       "19        60  '2020/12/19'    103       123     323.0\n",
       "20        45  '2020/12/20'     97       125     243.0\n",
       "21        60  '2020/12/21'    108       131     364.2\n",
       "22        45           NaN    100       119     282.0\n",
       "23        60  '2020/12/23'    130       101     300.0\n",
       "24        45  '2020/12/24'    105       132     246.0\n",
       "25        60  '2020/12/25'    102       126     334.5\n",
       "26        60      20201226    100       120     250.0\n",
       "27        60  '2020/12/27'     92       118     241.0\n",
       "28        60  '2020/12/28'    103       132       NaN\n",
       "29        60  '2020/12/29'    100       132     280.0\n",
       "30        60  '2020/12/30'    102       129     380.3\n",
       "31        60  '2020/12/31'     92       115     243.0"
      ]
     },
     "execution_count": 66,
     "metadata": {},
     "output_type": "execute_result"
    }
   ],
   "source": [
    "df = pd.read_csv('data.csv')\n",
    "\n",
    "df"
   ]
  },
  {
   "cell_type": "code",
   "execution_count": 62,
   "id": "ff4f86f2",
   "metadata": {},
   "outputs": [
    {
     "data": {
      "text/html": [
       "<div>\n",
       "<style scoped>\n",
       "    .dataframe tbody tr th:only-of-type {\n",
       "        vertical-align: middle;\n",
       "    }\n",
       "\n",
       "    .dataframe tbody tr th {\n",
       "        vertical-align: top;\n",
       "    }\n",
       "\n",
       "    .dataframe thead th {\n",
       "        text-align: right;\n",
       "    }\n",
       "</style>\n",
       "<table border=\"1\" class=\"dataframe\">\n",
       "  <thead>\n",
       "    <tr style=\"text-align: right;\">\n",
       "      <th></th>\n",
       "      <th>Duration</th>\n",
       "      <th>Pulse</th>\n",
       "      <th>Maxpulse</th>\n",
       "      <th>Calories</th>\n",
       "    </tr>\n",
       "  </thead>\n",
       "  <tbody>\n",
       "    <tr>\n",
       "      <th>count</th>\n",
       "      <td>32.000000</td>\n",
       "      <td>32.000000</td>\n",
       "      <td>32.000000</td>\n",
       "      <td>30.000000</td>\n",
       "    </tr>\n",
       "    <tr>\n",
       "      <th>mean</th>\n",
       "      <td>68.437500</td>\n",
       "      <td>103.500000</td>\n",
       "      <td>128.500000</td>\n",
       "      <td>304.680000</td>\n",
       "    </tr>\n",
       "    <tr>\n",
       "      <th>std</th>\n",
       "      <td>70.039591</td>\n",
       "      <td>7.832933</td>\n",
       "      <td>12.998759</td>\n",
       "      <td>66.003779</td>\n",
       "    </tr>\n",
       "    <tr>\n",
       "      <th>min</th>\n",
       "      <td>30.000000</td>\n",
       "      <td>90.000000</td>\n",
       "      <td>101.000000</td>\n",
       "      <td>195.100000</td>\n",
       "    </tr>\n",
       "    <tr>\n",
       "      <th>25%</th>\n",
       "      <td>60.000000</td>\n",
       "      <td>100.000000</td>\n",
       "      <td>120.000000</td>\n",
       "      <td>250.700000</td>\n",
       "    </tr>\n",
       "    <tr>\n",
       "      <th>50%</th>\n",
       "      <td>60.000000</td>\n",
       "      <td>102.500000</td>\n",
       "      <td>127.500000</td>\n",
       "      <td>291.200000</td>\n",
       "    </tr>\n",
       "    <tr>\n",
       "      <th>75%</th>\n",
       "      <td>60.000000</td>\n",
       "      <td>106.500000</td>\n",
       "      <td>132.250000</td>\n",
       "      <td>343.975000</td>\n",
       "    </tr>\n",
       "    <tr>\n",
       "      <th>max</th>\n",
       "      <td>450.000000</td>\n",
       "      <td>130.000000</td>\n",
       "      <td>175.000000</td>\n",
       "      <td>479.000000</td>\n",
       "    </tr>\n",
       "  </tbody>\n",
       "</table>\n",
       "</div>"
      ],
      "text/plain": [
       "         Duration       Pulse    Maxpulse    Calories\n",
       "count   32.000000   32.000000   32.000000   30.000000\n",
       "mean    68.437500  103.500000  128.500000  304.680000\n",
       "std     70.039591    7.832933   12.998759   66.003779\n",
       "min     30.000000   90.000000  101.000000  195.100000\n",
       "25%     60.000000  100.000000  120.000000  250.700000\n",
       "50%     60.000000  102.500000  127.500000  291.200000\n",
       "75%     60.000000  106.500000  132.250000  343.975000\n",
       "max    450.000000  130.000000  175.000000  479.000000"
      ]
     },
     "execution_count": 62,
     "metadata": {},
     "output_type": "execute_result"
    }
   ],
   "source": [
    "df.describe()"
   ]
  },
  {
   "cell_type": "code",
   "execution_count": 63,
   "id": "9115b9ad",
   "metadata": {},
   "outputs": [
    {
     "data": {
      "text/plain": [
       "(32, 5)"
      ]
     },
     "execution_count": 63,
     "metadata": {},
     "output_type": "execute_result"
    }
   ],
   "source": [
    "df.shape"
   ]
  },
  {
   "cell_type": "code",
   "execution_count": 64,
   "id": "e33070ec",
   "metadata": {},
   "outputs": [],
   "source": [
    "#we can replace the null ex - with 130\n",
    "df.fillna(130, inplace = True)"
   ]
  },
  {
   "cell_type": "code",
   "execution_count": 65,
   "id": "10a45262",
   "metadata": {},
   "outputs": [
    {
     "data": {
      "text/html": [
       "<div>\n",
       "<style scoped>\n",
       "    .dataframe tbody tr th:only-of-type {\n",
       "        vertical-align: middle;\n",
       "    }\n",
       "\n",
       "    .dataframe tbody tr th {\n",
       "        vertical-align: top;\n",
       "    }\n",
       "\n",
       "    .dataframe thead th {\n",
       "        text-align: right;\n",
       "    }\n",
       "</style>\n",
       "<table border=\"1\" class=\"dataframe\">\n",
       "  <thead>\n",
       "    <tr style=\"text-align: right;\">\n",
       "      <th></th>\n",
       "      <th>Duration</th>\n",
       "      <th>Date</th>\n",
       "      <th>Pulse</th>\n",
       "      <th>Maxpulse</th>\n",
       "      <th>Calories</th>\n",
       "    </tr>\n",
       "  </thead>\n",
       "  <tbody>\n",
       "    <tr>\n",
       "      <th>0</th>\n",
       "      <td>60</td>\n",
       "      <td>'2020/12/01'</td>\n",
       "      <td>110</td>\n",
       "      <td>130</td>\n",
       "      <td>409.1</td>\n",
       "    </tr>\n",
       "    <tr>\n",
       "      <th>1</th>\n",
       "      <td>60</td>\n",
       "      <td>'2020/12/02'</td>\n",
       "      <td>117</td>\n",
       "      <td>145</td>\n",
       "      <td>479.0</td>\n",
       "    </tr>\n",
       "    <tr>\n",
       "      <th>2</th>\n",
       "      <td>60</td>\n",
       "      <td>'2020/12/03'</td>\n",
       "      <td>103</td>\n",
       "      <td>135</td>\n",
       "      <td>340.0</td>\n",
       "    </tr>\n",
       "    <tr>\n",
       "      <th>3</th>\n",
       "      <td>45</td>\n",
       "      <td>'2020/12/04'</td>\n",
       "      <td>109</td>\n",
       "      <td>175</td>\n",
       "      <td>282.4</td>\n",
       "    </tr>\n",
       "    <tr>\n",
       "      <th>4</th>\n",
       "      <td>45</td>\n",
       "      <td>'2020/12/05'</td>\n",
       "      <td>117</td>\n",
       "      <td>148</td>\n",
       "      <td>406.0</td>\n",
       "    </tr>\n",
       "    <tr>\n",
       "      <th>5</th>\n",
       "      <td>60</td>\n",
       "      <td>'2020/12/06'</td>\n",
       "      <td>102</td>\n",
       "      <td>127</td>\n",
       "      <td>300.0</td>\n",
       "    </tr>\n",
       "    <tr>\n",
       "      <th>6</th>\n",
       "      <td>60</td>\n",
       "      <td>'2020/12/07'</td>\n",
       "      <td>110</td>\n",
       "      <td>136</td>\n",
       "      <td>374.0</td>\n",
       "    </tr>\n",
       "    <tr>\n",
       "      <th>7</th>\n",
       "      <td>450</td>\n",
       "      <td>'2020/12/08'</td>\n",
       "      <td>104</td>\n",
       "      <td>134</td>\n",
       "      <td>253.3</td>\n",
       "    </tr>\n",
       "    <tr>\n",
       "      <th>8</th>\n",
       "      <td>30</td>\n",
       "      <td>'2020/12/09'</td>\n",
       "      <td>109</td>\n",
       "      <td>133</td>\n",
       "      <td>195.1</td>\n",
       "    </tr>\n",
       "    <tr>\n",
       "      <th>9</th>\n",
       "      <td>60</td>\n",
       "      <td>'2020/12/10'</td>\n",
       "      <td>98</td>\n",
       "      <td>124</td>\n",
       "      <td>269.0</td>\n",
       "    </tr>\n",
       "    <tr>\n",
       "      <th>10</th>\n",
       "      <td>60</td>\n",
       "      <td>'2020/12/11'</td>\n",
       "      <td>103</td>\n",
       "      <td>147</td>\n",
       "      <td>329.3</td>\n",
       "    </tr>\n",
       "    <tr>\n",
       "      <th>11</th>\n",
       "      <td>60</td>\n",
       "      <td>'2020/12/12'</td>\n",
       "      <td>100</td>\n",
       "      <td>120</td>\n",
       "      <td>250.7</td>\n",
       "    </tr>\n",
       "    <tr>\n",
       "      <th>12</th>\n",
       "      <td>60</td>\n",
       "      <td>'2020/12/12'</td>\n",
       "      <td>100</td>\n",
       "      <td>120</td>\n",
       "      <td>250.7</td>\n",
       "    </tr>\n",
       "    <tr>\n",
       "      <th>13</th>\n",
       "      <td>60</td>\n",
       "      <td>'2020/12/13'</td>\n",
       "      <td>106</td>\n",
       "      <td>128</td>\n",
       "      <td>345.3</td>\n",
       "    </tr>\n",
       "    <tr>\n",
       "      <th>14</th>\n",
       "      <td>60</td>\n",
       "      <td>'2020/12/14'</td>\n",
       "      <td>104</td>\n",
       "      <td>132</td>\n",
       "      <td>379.3</td>\n",
       "    </tr>\n",
       "    <tr>\n",
       "      <th>15</th>\n",
       "      <td>60</td>\n",
       "      <td>'2020/12/15'</td>\n",
       "      <td>98</td>\n",
       "      <td>123</td>\n",
       "      <td>275.0</td>\n",
       "    </tr>\n",
       "    <tr>\n",
       "      <th>16</th>\n",
       "      <td>60</td>\n",
       "      <td>'2020/12/16'</td>\n",
       "      <td>98</td>\n",
       "      <td>120</td>\n",
       "      <td>215.2</td>\n",
       "    </tr>\n",
       "    <tr>\n",
       "      <th>17</th>\n",
       "      <td>60</td>\n",
       "      <td>'2020/12/17'</td>\n",
       "      <td>100</td>\n",
       "      <td>120</td>\n",
       "      <td>300.0</td>\n",
       "    </tr>\n",
       "    <tr>\n",
       "      <th>18</th>\n",
       "      <td>45</td>\n",
       "      <td>'2020/12/18'</td>\n",
       "      <td>90</td>\n",
       "      <td>112</td>\n",
       "      <td>130.0</td>\n",
       "    </tr>\n",
       "    <tr>\n",
       "      <th>19</th>\n",
       "      <td>60</td>\n",
       "      <td>'2020/12/19'</td>\n",
       "      <td>103</td>\n",
       "      <td>123</td>\n",
       "      <td>323.0</td>\n",
       "    </tr>\n",
       "    <tr>\n",
       "      <th>20</th>\n",
       "      <td>45</td>\n",
       "      <td>'2020/12/20'</td>\n",
       "      <td>97</td>\n",
       "      <td>125</td>\n",
       "      <td>243.0</td>\n",
       "    </tr>\n",
       "    <tr>\n",
       "      <th>21</th>\n",
       "      <td>60</td>\n",
       "      <td>'2020/12/21'</td>\n",
       "      <td>108</td>\n",
       "      <td>131</td>\n",
       "      <td>364.2</td>\n",
       "    </tr>\n",
       "    <tr>\n",
       "      <th>22</th>\n",
       "      <td>45</td>\n",
       "      <td>130</td>\n",
       "      <td>100</td>\n",
       "      <td>119</td>\n",
       "      <td>282.0</td>\n",
       "    </tr>\n",
       "    <tr>\n",
       "      <th>23</th>\n",
       "      <td>60</td>\n",
       "      <td>'2020/12/23'</td>\n",
       "      <td>130</td>\n",
       "      <td>101</td>\n",
       "      <td>300.0</td>\n",
       "    </tr>\n",
       "    <tr>\n",
       "      <th>24</th>\n",
       "      <td>45</td>\n",
       "      <td>'2020/12/24'</td>\n",
       "      <td>105</td>\n",
       "      <td>132</td>\n",
       "      <td>246.0</td>\n",
       "    </tr>\n",
       "    <tr>\n",
       "      <th>25</th>\n",
       "      <td>60</td>\n",
       "      <td>'2020/12/25'</td>\n",
       "      <td>102</td>\n",
       "      <td>126</td>\n",
       "      <td>334.5</td>\n",
       "    </tr>\n",
       "    <tr>\n",
       "      <th>26</th>\n",
       "      <td>60</td>\n",
       "      <td>20201226</td>\n",
       "      <td>100</td>\n",
       "      <td>120</td>\n",
       "      <td>250.0</td>\n",
       "    </tr>\n",
       "    <tr>\n",
       "      <th>27</th>\n",
       "      <td>60</td>\n",
       "      <td>'2020/12/27'</td>\n",
       "      <td>92</td>\n",
       "      <td>118</td>\n",
       "      <td>241.0</td>\n",
       "    </tr>\n",
       "    <tr>\n",
       "      <th>28</th>\n",
       "      <td>60</td>\n",
       "      <td>'2020/12/28'</td>\n",
       "      <td>103</td>\n",
       "      <td>132</td>\n",
       "      <td>130.0</td>\n",
       "    </tr>\n",
       "    <tr>\n",
       "      <th>29</th>\n",
       "      <td>60</td>\n",
       "      <td>'2020/12/29'</td>\n",
       "      <td>100</td>\n",
       "      <td>132</td>\n",
       "      <td>280.0</td>\n",
       "    </tr>\n",
       "    <tr>\n",
       "      <th>30</th>\n",
       "      <td>60</td>\n",
       "      <td>'2020/12/30'</td>\n",
       "      <td>102</td>\n",
       "      <td>129</td>\n",
       "      <td>380.3</td>\n",
       "    </tr>\n",
       "    <tr>\n",
       "      <th>31</th>\n",
       "      <td>60</td>\n",
       "      <td>'2020/12/31'</td>\n",
       "      <td>92</td>\n",
       "      <td>115</td>\n",
       "      <td>243.0</td>\n",
       "    </tr>\n",
       "  </tbody>\n",
       "</table>\n",
       "</div>"
      ],
      "text/plain": [
       "    Duration          Date  Pulse  Maxpulse  Calories\n",
       "0         60  '2020/12/01'    110       130     409.1\n",
       "1         60  '2020/12/02'    117       145     479.0\n",
       "2         60  '2020/12/03'    103       135     340.0\n",
       "3         45  '2020/12/04'    109       175     282.4\n",
       "4         45  '2020/12/05'    117       148     406.0\n",
       "5         60  '2020/12/06'    102       127     300.0\n",
       "6         60  '2020/12/07'    110       136     374.0\n",
       "7        450  '2020/12/08'    104       134     253.3\n",
       "8         30  '2020/12/09'    109       133     195.1\n",
       "9         60  '2020/12/10'     98       124     269.0\n",
       "10        60  '2020/12/11'    103       147     329.3\n",
       "11        60  '2020/12/12'    100       120     250.7\n",
       "12        60  '2020/12/12'    100       120     250.7\n",
       "13        60  '2020/12/13'    106       128     345.3\n",
       "14        60  '2020/12/14'    104       132     379.3\n",
       "15        60  '2020/12/15'     98       123     275.0\n",
       "16        60  '2020/12/16'     98       120     215.2\n",
       "17        60  '2020/12/17'    100       120     300.0\n",
       "18        45  '2020/12/18'     90       112     130.0\n",
       "19        60  '2020/12/19'    103       123     323.0\n",
       "20        45  '2020/12/20'     97       125     243.0\n",
       "21        60  '2020/12/21'    108       131     364.2\n",
       "22        45           130    100       119     282.0\n",
       "23        60  '2020/12/23'    130       101     300.0\n",
       "24        45  '2020/12/24'    105       132     246.0\n",
       "25        60  '2020/12/25'    102       126     334.5\n",
       "26        60      20201226    100       120     250.0\n",
       "27        60  '2020/12/27'     92       118     241.0\n",
       "28        60  '2020/12/28'    103       132     130.0\n",
       "29        60  '2020/12/29'    100       132     280.0\n",
       "30        60  '2020/12/30'    102       129     380.3\n",
       "31        60  '2020/12/31'     92       115     243.0"
      ]
     },
     "execution_count": 65,
     "metadata": {},
     "output_type": "execute_result"
    }
   ],
   "source": [
    "df"
   ]
  },
  {
   "cell_type": "code",
   "execution_count": 74,
   "id": "c77227de",
   "metadata": {},
   "outputs": [
    {
     "name": "stdout",
     "output_type": "stream",
     "text": [
      "304.68\n"
     ]
    }
   ],
   "source": [
    "#also we can replace the null values with mean ,meadian also\n",
    "\n",
    "df = pd.read_csv('data.csv')\n",
    "\n",
    "x = df[\"Calories\"].mean()    #with mean of column calorie\n",
    "print(x)\n",
    "df[\"Calories\"].fillna(x, inplace = True)\n",
    "\n",
    "\n",
    "\n"
   ]
  },
  {
   "cell_type": "code",
   "execution_count": 75,
   "id": "4e260031",
   "metadata": {},
   "outputs": [
    {
     "data": {
      "text/html": [
       "<div>\n",
       "<style scoped>\n",
       "    .dataframe tbody tr th:only-of-type {\n",
       "        vertical-align: middle;\n",
       "    }\n",
       "\n",
       "    .dataframe tbody tr th {\n",
       "        vertical-align: top;\n",
       "    }\n",
       "\n",
       "    .dataframe thead th {\n",
       "        text-align: right;\n",
       "    }\n",
       "</style>\n",
       "<table border=\"1\" class=\"dataframe\">\n",
       "  <thead>\n",
       "    <tr style=\"text-align: right;\">\n",
       "      <th></th>\n",
       "      <th>Duration</th>\n",
       "      <th>Date</th>\n",
       "      <th>Pulse</th>\n",
       "      <th>Maxpulse</th>\n",
       "      <th>Calories</th>\n",
       "    </tr>\n",
       "  </thead>\n",
       "  <tbody>\n",
       "    <tr>\n",
       "      <th>0</th>\n",
       "      <td>60</td>\n",
       "      <td>'2020/12/01'</td>\n",
       "      <td>110</td>\n",
       "      <td>130</td>\n",
       "      <td>409.10</td>\n",
       "    </tr>\n",
       "    <tr>\n",
       "      <th>1</th>\n",
       "      <td>60</td>\n",
       "      <td>'2020/12/02'</td>\n",
       "      <td>117</td>\n",
       "      <td>145</td>\n",
       "      <td>479.00</td>\n",
       "    </tr>\n",
       "    <tr>\n",
       "      <th>2</th>\n",
       "      <td>60</td>\n",
       "      <td>'2020/12/03'</td>\n",
       "      <td>103</td>\n",
       "      <td>135</td>\n",
       "      <td>340.00</td>\n",
       "    </tr>\n",
       "    <tr>\n",
       "      <th>3</th>\n",
       "      <td>45</td>\n",
       "      <td>'2020/12/04'</td>\n",
       "      <td>109</td>\n",
       "      <td>175</td>\n",
       "      <td>282.40</td>\n",
       "    </tr>\n",
       "    <tr>\n",
       "      <th>4</th>\n",
       "      <td>45</td>\n",
       "      <td>'2020/12/05'</td>\n",
       "      <td>117</td>\n",
       "      <td>148</td>\n",
       "      <td>406.00</td>\n",
       "    </tr>\n",
       "    <tr>\n",
       "      <th>5</th>\n",
       "      <td>60</td>\n",
       "      <td>'2020/12/06'</td>\n",
       "      <td>102</td>\n",
       "      <td>127</td>\n",
       "      <td>300.00</td>\n",
       "    </tr>\n",
       "    <tr>\n",
       "      <th>6</th>\n",
       "      <td>60</td>\n",
       "      <td>'2020/12/07'</td>\n",
       "      <td>110</td>\n",
       "      <td>136</td>\n",
       "      <td>374.00</td>\n",
       "    </tr>\n",
       "    <tr>\n",
       "      <th>7</th>\n",
       "      <td>450</td>\n",
       "      <td>'2020/12/08'</td>\n",
       "      <td>104</td>\n",
       "      <td>134</td>\n",
       "      <td>253.30</td>\n",
       "    </tr>\n",
       "    <tr>\n",
       "      <th>8</th>\n",
       "      <td>30</td>\n",
       "      <td>'2020/12/09'</td>\n",
       "      <td>109</td>\n",
       "      <td>133</td>\n",
       "      <td>195.10</td>\n",
       "    </tr>\n",
       "    <tr>\n",
       "      <th>9</th>\n",
       "      <td>60</td>\n",
       "      <td>'2020/12/10'</td>\n",
       "      <td>98</td>\n",
       "      <td>124</td>\n",
       "      <td>269.00</td>\n",
       "    </tr>\n",
       "    <tr>\n",
       "      <th>10</th>\n",
       "      <td>60</td>\n",
       "      <td>'2020/12/11'</td>\n",
       "      <td>103</td>\n",
       "      <td>147</td>\n",
       "      <td>329.30</td>\n",
       "    </tr>\n",
       "    <tr>\n",
       "      <th>11</th>\n",
       "      <td>60</td>\n",
       "      <td>'2020/12/12'</td>\n",
       "      <td>100</td>\n",
       "      <td>120</td>\n",
       "      <td>250.70</td>\n",
       "    </tr>\n",
       "    <tr>\n",
       "      <th>12</th>\n",
       "      <td>60</td>\n",
       "      <td>'2020/12/12'</td>\n",
       "      <td>100</td>\n",
       "      <td>120</td>\n",
       "      <td>250.70</td>\n",
       "    </tr>\n",
       "    <tr>\n",
       "      <th>13</th>\n",
       "      <td>60</td>\n",
       "      <td>'2020/12/13'</td>\n",
       "      <td>106</td>\n",
       "      <td>128</td>\n",
       "      <td>345.30</td>\n",
       "    </tr>\n",
       "    <tr>\n",
       "      <th>14</th>\n",
       "      <td>60</td>\n",
       "      <td>'2020/12/14'</td>\n",
       "      <td>104</td>\n",
       "      <td>132</td>\n",
       "      <td>379.30</td>\n",
       "    </tr>\n",
       "    <tr>\n",
       "      <th>15</th>\n",
       "      <td>60</td>\n",
       "      <td>'2020/12/15'</td>\n",
       "      <td>98</td>\n",
       "      <td>123</td>\n",
       "      <td>275.00</td>\n",
       "    </tr>\n",
       "    <tr>\n",
       "      <th>16</th>\n",
       "      <td>60</td>\n",
       "      <td>'2020/12/16'</td>\n",
       "      <td>98</td>\n",
       "      <td>120</td>\n",
       "      <td>215.20</td>\n",
       "    </tr>\n",
       "    <tr>\n",
       "      <th>17</th>\n",
       "      <td>60</td>\n",
       "      <td>'2020/12/17'</td>\n",
       "      <td>100</td>\n",
       "      <td>120</td>\n",
       "      <td>300.00</td>\n",
       "    </tr>\n",
       "    <tr>\n",
       "      <th>18</th>\n",
       "      <td>45</td>\n",
       "      <td>'2020/12/18'</td>\n",
       "      <td>90</td>\n",
       "      <td>112</td>\n",
       "      <td>304.68</td>\n",
       "    </tr>\n",
       "    <tr>\n",
       "      <th>19</th>\n",
       "      <td>60</td>\n",
       "      <td>'2020/12/19'</td>\n",
       "      <td>103</td>\n",
       "      <td>123</td>\n",
       "      <td>323.00</td>\n",
       "    </tr>\n",
       "    <tr>\n",
       "      <th>20</th>\n",
       "      <td>45</td>\n",
       "      <td>'2020/12/20'</td>\n",
       "      <td>97</td>\n",
       "      <td>125</td>\n",
       "      <td>243.00</td>\n",
       "    </tr>\n",
       "    <tr>\n",
       "      <th>21</th>\n",
       "      <td>60</td>\n",
       "      <td>'2020/12/21'</td>\n",
       "      <td>108</td>\n",
       "      <td>131</td>\n",
       "      <td>364.20</td>\n",
       "    </tr>\n",
       "    <tr>\n",
       "      <th>22</th>\n",
       "      <td>45</td>\n",
       "      <td>NaN</td>\n",
       "      <td>100</td>\n",
       "      <td>119</td>\n",
       "      <td>282.00</td>\n",
       "    </tr>\n",
       "    <tr>\n",
       "      <th>23</th>\n",
       "      <td>60</td>\n",
       "      <td>'2020/12/23'</td>\n",
       "      <td>130</td>\n",
       "      <td>101</td>\n",
       "      <td>300.00</td>\n",
       "    </tr>\n",
       "    <tr>\n",
       "      <th>24</th>\n",
       "      <td>45</td>\n",
       "      <td>'2020/12/24'</td>\n",
       "      <td>105</td>\n",
       "      <td>132</td>\n",
       "      <td>246.00</td>\n",
       "    </tr>\n",
       "    <tr>\n",
       "      <th>25</th>\n",
       "      <td>60</td>\n",
       "      <td>'2020/12/25'</td>\n",
       "      <td>102</td>\n",
       "      <td>126</td>\n",
       "      <td>334.50</td>\n",
       "    </tr>\n",
       "    <tr>\n",
       "      <th>26</th>\n",
       "      <td>60</td>\n",
       "      <td>20201226</td>\n",
       "      <td>100</td>\n",
       "      <td>120</td>\n",
       "      <td>250.00</td>\n",
       "    </tr>\n",
       "    <tr>\n",
       "      <th>27</th>\n",
       "      <td>60</td>\n",
       "      <td>'2020/12/27'</td>\n",
       "      <td>92</td>\n",
       "      <td>118</td>\n",
       "      <td>241.00</td>\n",
       "    </tr>\n",
       "    <tr>\n",
       "      <th>28</th>\n",
       "      <td>60</td>\n",
       "      <td>'2020/12/28'</td>\n",
       "      <td>103</td>\n",
       "      <td>132</td>\n",
       "      <td>304.68</td>\n",
       "    </tr>\n",
       "    <tr>\n",
       "      <th>29</th>\n",
       "      <td>60</td>\n",
       "      <td>'2020/12/29'</td>\n",
       "      <td>100</td>\n",
       "      <td>132</td>\n",
       "      <td>280.00</td>\n",
       "    </tr>\n",
       "    <tr>\n",
       "      <th>30</th>\n",
       "      <td>60</td>\n",
       "      <td>'2020/12/30'</td>\n",
       "      <td>102</td>\n",
       "      <td>129</td>\n",
       "      <td>380.30</td>\n",
       "    </tr>\n",
       "    <tr>\n",
       "      <th>31</th>\n",
       "      <td>60</td>\n",
       "      <td>'2020/12/31'</td>\n",
       "      <td>92</td>\n",
       "      <td>115</td>\n",
       "      <td>243.00</td>\n",
       "    </tr>\n",
       "  </tbody>\n",
       "</table>\n",
       "</div>"
      ],
      "text/plain": [
       "    Duration          Date  Pulse  Maxpulse  Calories\n",
       "0         60  '2020/12/01'    110       130    409.10\n",
       "1         60  '2020/12/02'    117       145    479.00\n",
       "2         60  '2020/12/03'    103       135    340.00\n",
       "3         45  '2020/12/04'    109       175    282.40\n",
       "4         45  '2020/12/05'    117       148    406.00\n",
       "5         60  '2020/12/06'    102       127    300.00\n",
       "6         60  '2020/12/07'    110       136    374.00\n",
       "7        450  '2020/12/08'    104       134    253.30\n",
       "8         30  '2020/12/09'    109       133    195.10\n",
       "9         60  '2020/12/10'     98       124    269.00\n",
       "10        60  '2020/12/11'    103       147    329.30\n",
       "11        60  '2020/12/12'    100       120    250.70\n",
       "12        60  '2020/12/12'    100       120    250.70\n",
       "13        60  '2020/12/13'    106       128    345.30\n",
       "14        60  '2020/12/14'    104       132    379.30\n",
       "15        60  '2020/12/15'     98       123    275.00\n",
       "16        60  '2020/12/16'     98       120    215.20\n",
       "17        60  '2020/12/17'    100       120    300.00\n",
       "18        45  '2020/12/18'     90       112    304.68\n",
       "19        60  '2020/12/19'    103       123    323.00\n",
       "20        45  '2020/12/20'     97       125    243.00\n",
       "21        60  '2020/12/21'    108       131    364.20\n",
       "22        45           NaN    100       119    282.00\n",
       "23        60  '2020/12/23'    130       101    300.00\n",
       "24        45  '2020/12/24'    105       132    246.00\n",
       "25        60  '2020/12/25'    102       126    334.50\n",
       "26        60      20201226    100       120    250.00\n",
       "27        60  '2020/12/27'     92       118    241.00\n",
       "28        60  '2020/12/28'    103       132    304.68\n",
       "29        60  '2020/12/29'    100       132    280.00\n",
       "30        60  '2020/12/30'    102       129    380.30\n",
       "31        60  '2020/12/31'     92       115    243.00"
      ]
     },
     "execution_count": 75,
     "metadata": {},
     "output_type": "execute_result"
    }
   ],
   "source": [
    "df"
   ]
  },
  {
   "cell_type": "code",
   "execution_count": 76,
   "id": "3b547895",
   "metadata": {},
   "outputs": [
    {
     "name": "stdout",
     "output_type": "stream",
     "text": [
      "300.0\n"
     ]
    }
   ],
   "source": [
    "x = df[\"Calories\"].median()\n",
    "print(x)\n",
    "\n",
    "df[\"Calories\"].fillna(x, inplace = True)"
   ]
  },
  {
   "cell_type": "code",
   "execution_count": 77,
   "id": "d377dafe",
   "metadata": {},
   "outputs": [
    {
     "data": {
      "text/html": [
       "<div>\n",
       "<style scoped>\n",
       "    .dataframe tbody tr th:only-of-type {\n",
       "        vertical-align: middle;\n",
       "    }\n",
       "\n",
       "    .dataframe tbody tr th {\n",
       "        vertical-align: top;\n",
       "    }\n",
       "\n",
       "    .dataframe thead th {\n",
       "        text-align: right;\n",
       "    }\n",
       "</style>\n",
       "<table border=\"1\" class=\"dataframe\">\n",
       "  <thead>\n",
       "    <tr style=\"text-align: right;\">\n",
       "      <th></th>\n",
       "      <th>Duration</th>\n",
       "      <th>Date</th>\n",
       "      <th>Pulse</th>\n",
       "      <th>Maxpulse</th>\n",
       "      <th>Calories</th>\n",
       "    </tr>\n",
       "  </thead>\n",
       "  <tbody>\n",
       "    <tr>\n",
       "      <th>0</th>\n",
       "      <td>60</td>\n",
       "      <td>'2020/12/01'</td>\n",
       "      <td>110</td>\n",
       "      <td>130</td>\n",
       "      <td>409.10</td>\n",
       "    </tr>\n",
       "    <tr>\n",
       "      <th>1</th>\n",
       "      <td>60</td>\n",
       "      <td>'2020/12/02'</td>\n",
       "      <td>117</td>\n",
       "      <td>145</td>\n",
       "      <td>479.00</td>\n",
       "    </tr>\n",
       "    <tr>\n",
       "      <th>2</th>\n",
       "      <td>60</td>\n",
       "      <td>'2020/12/03'</td>\n",
       "      <td>103</td>\n",
       "      <td>135</td>\n",
       "      <td>340.00</td>\n",
       "    </tr>\n",
       "    <tr>\n",
       "      <th>3</th>\n",
       "      <td>45</td>\n",
       "      <td>'2020/12/04'</td>\n",
       "      <td>109</td>\n",
       "      <td>175</td>\n",
       "      <td>282.40</td>\n",
       "    </tr>\n",
       "    <tr>\n",
       "      <th>4</th>\n",
       "      <td>45</td>\n",
       "      <td>'2020/12/05'</td>\n",
       "      <td>117</td>\n",
       "      <td>148</td>\n",
       "      <td>406.00</td>\n",
       "    </tr>\n",
       "    <tr>\n",
       "      <th>5</th>\n",
       "      <td>60</td>\n",
       "      <td>'2020/12/06'</td>\n",
       "      <td>102</td>\n",
       "      <td>127</td>\n",
       "      <td>300.00</td>\n",
       "    </tr>\n",
       "    <tr>\n",
       "      <th>6</th>\n",
       "      <td>60</td>\n",
       "      <td>'2020/12/07'</td>\n",
       "      <td>110</td>\n",
       "      <td>136</td>\n",
       "      <td>374.00</td>\n",
       "    </tr>\n",
       "    <tr>\n",
       "      <th>7</th>\n",
       "      <td>450</td>\n",
       "      <td>'2020/12/08'</td>\n",
       "      <td>104</td>\n",
       "      <td>134</td>\n",
       "      <td>253.30</td>\n",
       "    </tr>\n",
       "    <tr>\n",
       "      <th>8</th>\n",
       "      <td>30</td>\n",
       "      <td>'2020/12/09'</td>\n",
       "      <td>109</td>\n",
       "      <td>133</td>\n",
       "      <td>195.10</td>\n",
       "    </tr>\n",
       "    <tr>\n",
       "      <th>9</th>\n",
       "      <td>60</td>\n",
       "      <td>'2020/12/10'</td>\n",
       "      <td>98</td>\n",
       "      <td>124</td>\n",
       "      <td>269.00</td>\n",
       "    </tr>\n",
       "    <tr>\n",
       "      <th>10</th>\n",
       "      <td>60</td>\n",
       "      <td>'2020/12/11'</td>\n",
       "      <td>103</td>\n",
       "      <td>147</td>\n",
       "      <td>329.30</td>\n",
       "    </tr>\n",
       "    <tr>\n",
       "      <th>11</th>\n",
       "      <td>60</td>\n",
       "      <td>'2020/12/12'</td>\n",
       "      <td>100</td>\n",
       "      <td>120</td>\n",
       "      <td>250.70</td>\n",
       "    </tr>\n",
       "    <tr>\n",
       "      <th>12</th>\n",
       "      <td>60</td>\n",
       "      <td>'2020/12/12'</td>\n",
       "      <td>100</td>\n",
       "      <td>120</td>\n",
       "      <td>250.70</td>\n",
       "    </tr>\n",
       "    <tr>\n",
       "      <th>13</th>\n",
       "      <td>60</td>\n",
       "      <td>'2020/12/13'</td>\n",
       "      <td>106</td>\n",
       "      <td>128</td>\n",
       "      <td>345.30</td>\n",
       "    </tr>\n",
       "    <tr>\n",
       "      <th>14</th>\n",
       "      <td>60</td>\n",
       "      <td>'2020/12/14'</td>\n",
       "      <td>104</td>\n",
       "      <td>132</td>\n",
       "      <td>379.30</td>\n",
       "    </tr>\n",
       "    <tr>\n",
       "      <th>15</th>\n",
       "      <td>60</td>\n",
       "      <td>'2020/12/15'</td>\n",
       "      <td>98</td>\n",
       "      <td>123</td>\n",
       "      <td>275.00</td>\n",
       "    </tr>\n",
       "    <tr>\n",
       "      <th>16</th>\n",
       "      <td>60</td>\n",
       "      <td>'2020/12/16'</td>\n",
       "      <td>98</td>\n",
       "      <td>120</td>\n",
       "      <td>215.20</td>\n",
       "    </tr>\n",
       "    <tr>\n",
       "      <th>17</th>\n",
       "      <td>60</td>\n",
       "      <td>'2020/12/17'</td>\n",
       "      <td>100</td>\n",
       "      <td>120</td>\n",
       "      <td>300.00</td>\n",
       "    </tr>\n",
       "    <tr>\n",
       "      <th>18</th>\n",
       "      <td>45</td>\n",
       "      <td>'2020/12/18'</td>\n",
       "      <td>90</td>\n",
       "      <td>112</td>\n",
       "      <td>304.68</td>\n",
       "    </tr>\n",
       "    <tr>\n",
       "      <th>19</th>\n",
       "      <td>60</td>\n",
       "      <td>'2020/12/19'</td>\n",
       "      <td>103</td>\n",
       "      <td>123</td>\n",
       "      <td>323.00</td>\n",
       "    </tr>\n",
       "    <tr>\n",
       "      <th>20</th>\n",
       "      <td>45</td>\n",
       "      <td>'2020/12/20'</td>\n",
       "      <td>97</td>\n",
       "      <td>125</td>\n",
       "      <td>243.00</td>\n",
       "    </tr>\n",
       "    <tr>\n",
       "      <th>21</th>\n",
       "      <td>60</td>\n",
       "      <td>'2020/12/21'</td>\n",
       "      <td>108</td>\n",
       "      <td>131</td>\n",
       "      <td>364.20</td>\n",
       "    </tr>\n",
       "    <tr>\n",
       "      <th>22</th>\n",
       "      <td>45</td>\n",
       "      <td>NaN</td>\n",
       "      <td>100</td>\n",
       "      <td>119</td>\n",
       "      <td>282.00</td>\n",
       "    </tr>\n",
       "    <tr>\n",
       "      <th>23</th>\n",
       "      <td>60</td>\n",
       "      <td>'2020/12/23'</td>\n",
       "      <td>130</td>\n",
       "      <td>101</td>\n",
       "      <td>300.00</td>\n",
       "    </tr>\n",
       "    <tr>\n",
       "      <th>24</th>\n",
       "      <td>45</td>\n",
       "      <td>'2020/12/24'</td>\n",
       "      <td>105</td>\n",
       "      <td>132</td>\n",
       "      <td>246.00</td>\n",
       "    </tr>\n",
       "    <tr>\n",
       "      <th>25</th>\n",
       "      <td>60</td>\n",
       "      <td>'2020/12/25'</td>\n",
       "      <td>102</td>\n",
       "      <td>126</td>\n",
       "      <td>334.50</td>\n",
       "    </tr>\n",
       "    <tr>\n",
       "      <th>26</th>\n",
       "      <td>60</td>\n",
       "      <td>20201226</td>\n",
       "      <td>100</td>\n",
       "      <td>120</td>\n",
       "      <td>250.00</td>\n",
       "    </tr>\n",
       "    <tr>\n",
       "      <th>27</th>\n",
       "      <td>60</td>\n",
       "      <td>'2020/12/27'</td>\n",
       "      <td>92</td>\n",
       "      <td>118</td>\n",
       "      <td>241.00</td>\n",
       "    </tr>\n",
       "    <tr>\n",
       "      <th>28</th>\n",
       "      <td>60</td>\n",
       "      <td>'2020/12/28'</td>\n",
       "      <td>103</td>\n",
       "      <td>132</td>\n",
       "      <td>304.68</td>\n",
       "    </tr>\n",
       "    <tr>\n",
       "      <th>29</th>\n",
       "      <td>60</td>\n",
       "      <td>'2020/12/29'</td>\n",
       "      <td>100</td>\n",
       "      <td>132</td>\n",
       "      <td>280.00</td>\n",
       "    </tr>\n",
       "    <tr>\n",
       "      <th>30</th>\n",
       "      <td>60</td>\n",
       "      <td>'2020/12/30'</td>\n",
       "      <td>102</td>\n",
       "      <td>129</td>\n",
       "      <td>380.30</td>\n",
       "    </tr>\n",
       "    <tr>\n",
       "      <th>31</th>\n",
       "      <td>60</td>\n",
       "      <td>'2020/12/31'</td>\n",
       "      <td>92</td>\n",
       "      <td>115</td>\n",
       "      <td>243.00</td>\n",
       "    </tr>\n",
       "  </tbody>\n",
       "</table>\n",
       "</div>"
      ],
      "text/plain": [
       "    Duration          Date  Pulse  Maxpulse  Calories\n",
       "0         60  '2020/12/01'    110       130    409.10\n",
       "1         60  '2020/12/02'    117       145    479.00\n",
       "2         60  '2020/12/03'    103       135    340.00\n",
       "3         45  '2020/12/04'    109       175    282.40\n",
       "4         45  '2020/12/05'    117       148    406.00\n",
       "5         60  '2020/12/06'    102       127    300.00\n",
       "6         60  '2020/12/07'    110       136    374.00\n",
       "7        450  '2020/12/08'    104       134    253.30\n",
       "8         30  '2020/12/09'    109       133    195.10\n",
       "9         60  '2020/12/10'     98       124    269.00\n",
       "10        60  '2020/12/11'    103       147    329.30\n",
       "11        60  '2020/12/12'    100       120    250.70\n",
       "12        60  '2020/12/12'    100       120    250.70\n",
       "13        60  '2020/12/13'    106       128    345.30\n",
       "14        60  '2020/12/14'    104       132    379.30\n",
       "15        60  '2020/12/15'     98       123    275.00\n",
       "16        60  '2020/12/16'     98       120    215.20\n",
       "17        60  '2020/12/17'    100       120    300.00\n",
       "18        45  '2020/12/18'     90       112    304.68\n",
       "19        60  '2020/12/19'    103       123    323.00\n",
       "20        45  '2020/12/20'     97       125    243.00\n",
       "21        60  '2020/12/21'    108       131    364.20\n",
       "22        45           NaN    100       119    282.00\n",
       "23        60  '2020/12/23'    130       101    300.00\n",
       "24        45  '2020/12/24'    105       132    246.00\n",
       "25        60  '2020/12/25'    102       126    334.50\n",
       "26        60      20201226    100       120    250.00\n",
       "27        60  '2020/12/27'     92       118    241.00\n",
       "28        60  '2020/12/28'    103       132    304.68\n",
       "29        60  '2020/12/29'    100       132    280.00\n",
       "30        60  '2020/12/30'    102       129    380.30\n",
       "31        60  '2020/12/31'     92       115    243.00"
      ]
     },
     "execution_count": 77,
     "metadata": {},
     "output_type": "execute_result"
    }
   ],
   "source": [
    "df"
   ]
  },
  {
   "cell_type": "code",
   "execution_count": 79,
   "id": "b62671ab",
   "metadata": {},
   "outputs": [
    {
     "data": {
      "text/html": [
       "<div>\n",
       "<style scoped>\n",
       "    .dataframe tbody tr th:only-of-type {\n",
       "        vertical-align: middle;\n",
       "    }\n",
       "\n",
       "    .dataframe tbody tr th {\n",
       "        vertical-align: top;\n",
       "    }\n",
       "\n",
       "    .dataframe thead th {\n",
       "        text-align: right;\n",
       "    }\n",
       "</style>\n",
       "<table border=\"1\" class=\"dataframe\">\n",
       "  <thead>\n",
       "    <tr style=\"text-align: right;\">\n",
       "      <th></th>\n",
       "      <th>Duration</th>\n",
       "      <th>Date</th>\n",
       "      <th>Pulse</th>\n",
       "      <th>Maxpulse</th>\n",
       "      <th>Calories</th>\n",
       "    </tr>\n",
       "  </thead>\n",
       "  <tbody>\n",
       "    <tr>\n",
       "      <th>27</th>\n",
       "      <td>60</td>\n",
       "      <td>'2020/12/27'</td>\n",
       "      <td>92</td>\n",
       "      <td>118</td>\n",
       "      <td>241.0</td>\n",
       "    </tr>\n",
       "    <tr>\n",
       "      <th>28</th>\n",
       "      <td>60</td>\n",
       "      <td>'2020/12/28'</td>\n",
       "      <td>103</td>\n",
       "      <td>132</td>\n",
       "      <td>NaN</td>\n",
       "    </tr>\n",
       "    <tr>\n",
       "      <th>29</th>\n",
       "      <td>60</td>\n",
       "      <td>'2020/12/29'</td>\n",
       "      <td>100</td>\n",
       "      <td>132</td>\n",
       "      <td>280.0</td>\n",
       "    </tr>\n",
       "    <tr>\n",
       "      <th>30</th>\n",
       "      <td>60</td>\n",
       "      <td>'2020/12/30'</td>\n",
       "      <td>102</td>\n",
       "      <td>129</td>\n",
       "      <td>380.3</td>\n",
       "    </tr>\n",
       "    <tr>\n",
       "      <th>31</th>\n",
       "      <td>60</td>\n",
       "      <td>'2020/12/31'</td>\n",
       "      <td>92</td>\n",
       "      <td>115</td>\n",
       "      <td>243.0</td>\n",
       "    </tr>\n",
       "  </tbody>\n",
       "</table>\n",
       "</div>"
      ],
      "text/plain": [
       "    Duration          Date  Pulse  Maxpulse  Calories\n",
       "27        60  '2020/12/27'     92       118     241.0\n",
       "28        60  '2020/12/28'    103       132       NaN\n",
       "29        60  '2020/12/29'    100       132     280.0\n",
       "30        60  '2020/12/30'    102       129     380.3\n",
       "31        60  '2020/12/31'     92       115     243.0"
      ]
     },
     "execution_count": 79,
     "metadata": {},
     "output_type": "execute_result"
    }
   ],
   "source": [
    "df = pd.read_csv('data.csv')\n",
    "\n",
    "df.tail()"
   ]
  },
  {
   "cell_type": "code",
   "execution_count": 80,
   "id": "a3c9a0a8",
   "metadata": {},
   "outputs": [],
   "source": [
    "#we can remove the rows having null values \n",
    "df = pd.read_csv('data.csv')\n",
    "\n",
    "df.dropna(inplace = True)\n",
    "\n",
    "#print(df.to_string())"
   ]
  },
  {
   "cell_type": "code",
   "execution_count": 81,
   "id": "5f4f1245",
   "metadata": {},
   "outputs": [
    {
     "data": {
      "text/html": [
       "<div>\n",
       "<style scoped>\n",
       "    .dataframe tbody tr th:only-of-type {\n",
       "        vertical-align: middle;\n",
       "    }\n",
       "\n",
       "    .dataframe tbody tr th {\n",
       "        vertical-align: top;\n",
       "    }\n",
       "\n",
       "    .dataframe thead th {\n",
       "        text-align: right;\n",
       "    }\n",
       "</style>\n",
       "<table border=\"1\" class=\"dataframe\">\n",
       "  <thead>\n",
       "    <tr style=\"text-align: right;\">\n",
       "      <th></th>\n",
       "      <th>Duration</th>\n",
       "      <th>Date</th>\n",
       "      <th>Pulse</th>\n",
       "      <th>Maxpulse</th>\n",
       "      <th>Calories</th>\n",
       "    </tr>\n",
       "  </thead>\n",
       "  <tbody>\n",
       "    <tr>\n",
       "      <th>26</th>\n",
       "      <td>60</td>\n",
       "      <td>20201226</td>\n",
       "      <td>100</td>\n",
       "      <td>120</td>\n",
       "      <td>250.0</td>\n",
       "    </tr>\n",
       "    <tr>\n",
       "      <th>27</th>\n",
       "      <td>60</td>\n",
       "      <td>'2020/12/27'</td>\n",
       "      <td>92</td>\n",
       "      <td>118</td>\n",
       "      <td>241.0</td>\n",
       "    </tr>\n",
       "    <tr>\n",
       "      <th>29</th>\n",
       "      <td>60</td>\n",
       "      <td>'2020/12/29'</td>\n",
       "      <td>100</td>\n",
       "      <td>132</td>\n",
       "      <td>280.0</td>\n",
       "    </tr>\n",
       "    <tr>\n",
       "      <th>30</th>\n",
       "      <td>60</td>\n",
       "      <td>'2020/12/30'</td>\n",
       "      <td>102</td>\n",
       "      <td>129</td>\n",
       "      <td>380.3</td>\n",
       "    </tr>\n",
       "    <tr>\n",
       "      <th>31</th>\n",
       "      <td>60</td>\n",
       "      <td>'2020/12/31'</td>\n",
       "      <td>92</td>\n",
       "      <td>115</td>\n",
       "      <td>243.0</td>\n",
       "    </tr>\n",
       "  </tbody>\n",
       "</table>\n",
       "</div>"
      ],
      "text/plain": [
       "    Duration          Date  Pulse  Maxpulse  Calories\n",
       "26        60      20201226    100       120     250.0\n",
       "27        60  '2020/12/27'     92       118     241.0\n",
       "29        60  '2020/12/29'    100       132     280.0\n",
       "30        60  '2020/12/30'    102       129     380.3\n",
       "31        60  '2020/12/31'     92       115     243.0"
      ]
     },
     "execution_count": 81,
     "metadata": {},
     "output_type": "execute_result"
    }
   ],
   "source": [
    "df.tail()  #we can row 28 is removed"
   ]
  },
  {
   "cell_type": "code",
   "execution_count": 85,
   "id": "e4bc8c3f",
   "metadata": {},
   "outputs": [
    {
     "data": {
      "text/plain": [
       "0     False\n",
       "1     False\n",
       "2     False\n",
       "3     False\n",
       "4     False\n",
       "5     False\n",
       "6     False\n",
       "7     False\n",
       "8     False\n",
       "9     False\n",
       "10    False\n",
       "11    False\n",
       "12     True\n",
       "13    False\n",
       "14    False\n",
       "dtype: bool"
      ]
     },
     "execution_count": 85,
     "metadata": {},
     "output_type": "execute_result"
    }
   ],
   "source": [
    " #duplicates\n",
    "df = pd.read_csv('data.csv')\n",
    "\n",
    "df.duplicated().head(15)\n",
    "    "
   ]
  },
  {
   "cell_type": "code",
   "execution_count": 86,
   "id": "488ad2f0",
   "metadata": {},
   "outputs": [],
   "source": [
    "df.drop_duplicates(inplace = True)  #removing duplicate values"
   ]
  },
  {
   "cell_type": "code",
   "execution_count": 87,
   "id": "fb3cbd32",
   "metadata": {},
   "outputs": [
    {
     "data": {
      "text/html": [
       "<div>\n",
       "<style scoped>\n",
       "    .dataframe tbody tr th:only-of-type {\n",
       "        vertical-align: middle;\n",
       "    }\n",
       "\n",
       "    .dataframe tbody tr th {\n",
       "        vertical-align: top;\n",
       "    }\n",
       "\n",
       "    .dataframe thead th {\n",
       "        text-align: right;\n",
       "    }\n",
       "</style>\n",
       "<table border=\"1\" class=\"dataframe\">\n",
       "  <thead>\n",
       "    <tr style=\"text-align: right;\">\n",
       "      <th></th>\n",
       "      <th>Duration</th>\n",
       "      <th>Date</th>\n",
       "      <th>Pulse</th>\n",
       "      <th>Maxpulse</th>\n",
       "      <th>Calories</th>\n",
       "    </tr>\n",
       "  </thead>\n",
       "  <tbody>\n",
       "    <tr>\n",
       "      <th>0</th>\n",
       "      <td>60</td>\n",
       "      <td>'2020/12/01'</td>\n",
       "      <td>110</td>\n",
       "      <td>130</td>\n",
       "      <td>409.1</td>\n",
       "    </tr>\n",
       "    <tr>\n",
       "      <th>1</th>\n",
       "      <td>60</td>\n",
       "      <td>'2020/12/02'</td>\n",
       "      <td>117</td>\n",
       "      <td>145</td>\n",
       "      <td>479.0</td>\n",
       "    </tr>\n",
       "    <tr>\n",
       "      <th>2</th>\n",
       "      <td>60</td>\n",
       "      <td>'2020/12/03'</td>\n",
       "      <td>103</td>\n",
       "      <td>135</td>\n",
       "      <td>340.0</td>\n",
       "    </tr>\n",
       "    <tr>\n",
       "      <th>3</th>\n",
       "      <td>45</td>\n",
       "      <td>'2020/12/04'</td>\n",
       "      <td>109</td>\n",
       "      <td>175</td>\n",
       "      <td>282.4</td>\n",
       "    </tr>\n",
       "    <tr>\n",
       "      <th>4</th>\n",
       "      <td>45</td>\n",
       "      <td>'2020/12/05'</td>\n",
       "      <td>117</td>\n",
       "      <td>148</td>\n",
       "      <td>406.0</td>\n",
       "    </tr>\n",
       "    <tr>\n",
       "      <th>5</th>\n",
       "      <td>60</td>\n",
       "      <td>'2020/12/06'</td>\n",
       "      <td>102</td>\n",
       "      <td>127</td>\n",
       "      <td>300.0</td>\n",
       "    </tr>\n",
       "    <tr>\n",
       "      <th>6</th>\n",
       "      <td>60</td>\n",
       "      <td>'2020/12/07'</td>\n",
       "      <td>110</td>\n",
       "      <td>136</td>\n",
       "      <td>374.0</td>\n",
       "    </tr>\n",
       "    <tr>\n",
       "      <th>7</th>\n",
       "      <td>450</td>\n",
       "      <td>'2020/12/08'</td>\n",
       "      <td>104</td>\n",
       "      <td>134</td>\n",
       "      <td>253.3</td>\n",
       "    </tr>\n",
       "    <tr>\n",
       "      <th>8</th>\n",
       "      <td>30</td>\n",
       "      <td>'2020/12/09'</td>\n",
       "      <td>109</td>\n",
       "      <td>133</td>\n",
       "      <td>195.1</td>\n",
       "    </tr>\n",
       "    <tr>\n",
       "      <th>9</th>\n",
       "      <td>60</td>\n",
       "      <td>'2020/12/10'</td>\n",
       "      <td>98</td>\n",
       "      <td>124</td>\n",
       "      <td>269.0</td>\n",
       "    </tr>\n",
       "    <tr>\n",
       "      <th>10</th>\n",
       "      <td>60</td>\n",
       "      <td>'2020/12/11'</td>\n",
       "      <td>103</td>\n",
       "      <td>147</td>\n",
       "      <td>329.3</td>\n",
       "    </tr>\n",
       "    <tr>\n",
       "      <th>11</th>\n",
       "      <td>60</td>\n",
       "      <td>'2020/12/12'</td>\n",
       "      <td>100</td>\n",
       "      <td>120</td>\n",
       "      <td>250.7</td>\n",
       "    </tr>\n",
       "    <tr>\n",
       "      <th>13</th>\n",
       "      <td>60</td>\n",
       "      <td>'2020/12/13'</td>\n",
       "      <td>106</td>\n",
       "      <td>128</td>\n",
       "      <td>345.3</td>\n",
       "    </tr>\n",
       "    <tr>\n",
       "      <th>14</th>\n",
       "      <td>60</td>\n",
       "      <td>'2020/12/14'</td>\n",
       "      <td>104</td>\n",
       "      <td>132</td>\n",
       "      <td>379.3</td>\n",
       "    </tr>\n",
       "    <tr>\n",
       "      <th>15</th>\n",
       "      <td>60</td>\n",
       "      <td>'2020/12/15'</td>\n",
       "      <td>98</td>\n",
       "      <td>123</td>\n",
       "      <td>275.0</td>\n",
       "    </tr>\n",
       "  </tbody>\n",
       "</table>\n",
       "</div>"
      ],
      "text/plain": [
       "    Duration          Date  Pulse  Maxpulse  Calories\n",
       "0         60  '2020/12/01'    110       130     409.1\n",
       "1         60  '2020/12/02'    117       145     479.0\n",
       "2         60  '2020/12/03'    103       135     340.0\n",
       "3         45  '2020/12/04'    109       175     282.4\n",
       "4         45  '2020/12/05'    117       148     406.0\n",
       "5         60  '2020/12/06'    102       127     300.0\n",
       "6         60  '2020/12/07'    110       136     374.0\n",
       "7        450  '2020/12/08'    104       134     253.3\n",
       "8         30  '2020/12/09'    109       133     195.1\n",
       "9         60  '2020/12/10'     98       124     269.0\n",
       "10        60  '2020/12/11'    103       147     329.3\n",
       "11        60  '2020/12/12'    100       120     250.7\n",
       "13        60  '2020/12/13'    106       128     345.3\n",
       "14        60  '2020/12/14'    104       132     379.3\n",
       "15        60  '2020/12/15'     98       123     275.0"
      ]
     },
     "execution_count": 87,
     "metadata": {},
     "output_type": "execute_result"
    }
   ],
   "source": [
    "df.head(15)"
   ]
  },
  {
   "cell_type": "code",
   "execution_count": 90,
   "id": "6f49e331",
   "metadata": {},
   "outputs": [
    {
     "data": {
      "text/html": [
       "<div>\n",
       "<style scoped>\n",
       "    .dataframe tbody tr th:only-of-type {\n",
       "        vertical-align: middle;\n",
       "    }\n",
       "\n",
       "    .dataframe tbody tr th {\n",
       "        vertical-align: top;\n",
       "    }\n",
       "\n",
       "    .dataframe thead th {\n",
       "        text-align: right;\n",
       "    }\n",
       "</style>\n",
       "<table border=\"1\" class=\"dataframe\">\n",
       "  <thead>\n",
       "    <tr style=\"text-align: right;\">\n",
       "      <th></th>\n",
       "      <th>Duration</th>\n",
       "      <th>Pulse</th>\n",
       "      <th>Maxpulse</th>\n",
       "      <th>Calories</th>\n",
       "    </tr>\n",
       "  </thead>\n",
       "  <tbody>\n",
       "    <tr>\n",
       "      <th>Duration</th>\n",
       "      <td>1.000000</td>\n",
       "      <td>-0.155408</td>\n",
       "      <td>0.009403</td>\n",
       "      <td>0.922717</td>\n",
       "    </tr>\n",
       "    <tr>\n",
       "      <th>Pulse</th>\n",
       "      <td>-0.155408</td>\n",
       "      <td>1.000000</td>\n",
       "      <td>0.786535</td>\n",
       "      <td>0.025121</td>\n",
       "    </tr>\n",
       "    <tr>\n",
       "      <th>Maxpulse</th>\n",
       "      <td>0.009403</td>\n",
       "      <td>0.786535</td>\n",
       "      <td>1.000000</td>\n",
       "      <td>0.203813</td>\n",
       "    </tr>\n",
       "    <tr>\n",
       "      <th>Calories</th>\n",
       "      <td>0.922717</td>\n",
       "      <td>0.025121</td>\n",
       "      <td>0.203813</td>\n",
       "      <td>1.000000</td>\n",
       "    </tr>\n",
       "  </tbody>\n",
       "</table>\n",
       "</div>"
      ],
      "text/plain": [
       "          Duration     Pulse  Maxpulse  Calories\n",
       "Duration  1.000000 -0.155408  0.009403  0.922717\n",
       "Pulse    -0.155408  1.000000  0.786535  0.025121\n",
       "Maxpulse  0.009403  0.786535  1.000000  0.203813\n",
       "Calories  0.922717  0.025121  0.203813  1.000000"
      ]
     },
     "execution_count": 90,
     "metadata": {},
     "output_type": "execute_result"
    }
   ],
   "source": [
    "df = pd.read_csv('data1.csv')\n",
    "df.corr()    "
   ]
  },
  {
   "cell_type": "markdown",
   "id": "7204e470",
   "metadata": {},
   "source": [
    "We can see that Duration and Duration got the number 1.000000, which makes sense, each column always has a perfect relationship with itself.\n",
    "\n",
    "Duration and Calories got a 0.922721 correlation, which is a very good correlation, and we can predict that the longer you work out, the more calories you burn and  vice versa\n",
    "\n",
    "Duration and Maxpulse got a 0.009403 correlation which is a very bad correlation so we can not predict the max pulse by just looking at the duration of the work out, and vice versa.\n",
    "\n"
   ]
  },
  {
   "cell_type": "code",
   "execution_count": 91,
   "id": "0ac1c06e",
   "metadata": {},
   "outputs": [
    {
     "data": {
      "image/png": "[encoded data removed]",
      "text/plain": [
       "<Figure size 432x288 with 1 Axes>"
      ]
     },
     "metadata": {
      "needs_background": "light"
     },
     "output_type": "display_data"
    }
   ],
   "source": [
    "import pandas as pd\n",
    "import matplotlib.pyplot as plt\n",
    "\n",
    "df = pd.read_csv('data1.csv')\n",
    "\n",
    "df.plot()\n",
    "\n",
    "plt.show()\n"
   ]
  },
  {
   "cell_type": "code",
   "execution_count": null,
   "id": "b50252bf",
   "metadata": {},
   "outputs": [],
   "source": []
  }
 ],
 "metadata": {
  "kernelspec": {
   "display_name": "Python 3 (ipykernel)",
   "language": "python",
   "name": "python3"
  },
  "language_info": {
   "codemirror_mode": {
    "name": "ipython",
    "version": 3
   },
   "file_extension": ".py",
   "mimetype": "text/x-python",
   "name": "python",
   "nbconvert_exporter": "python",
   "pygments_lexer": "ipython3",
   "version": "3.9.12"
  }
 },
 "nbformat": 4,
 "nbformat_minor": 5
}
