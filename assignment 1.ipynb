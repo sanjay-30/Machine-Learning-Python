{
 "cells": [
  {
   "cell_type": "markdown",
   "id": "d394cd85",
   "metadata": {},
   "source": [
    "Q1 Find the approximate change in the value of when 1/x**2 changes from 2 to 100"
   ]
  },
  {
   "cell_type": "code",
   "execution_count": 18,
   "id": "b04436d4",
   "metadata": {},
   "outputs": [
    {
     "name": "stdout",
     "output_type": "stream",
     "text": [
      "Derivate of f=1/x**2 =  -2/x**3\n",
      "The approximate change is the value decreases by -  -49.5\n"
     ]
    }
   ],
   "source": [
    "from sympy import symbols\n",
    "from sympy import *\n",
    "x=symbols('x')\n",
    "f=1/x**2\n",
    "df=f.diff(x)\n",
    "print(\"Derivate of f=1/x**2 = \" ,df)\n",
    "\n",
    "f1 = lambdify(x, df)\n",
    "print(\"The approximate change is the value decreases by - \" ,f1(2)*198) #x=x+delta_x -> 200=2+delta_x -> delta_x=198\n",
    "\n"
   ]
  },
  {
   "cell_type": "markdown",
   "id": "94db61a4",
   "metadata": {},
   "source": [
    "Q2. Rishi has a total of 590 as currency notes in the denominations of 50, 20 and 10. \n",
    "The ratio of the number of 50 notes and 20 notes is 3:5. \n",
    "If she has a total of 25 notes, how many notes of each denomination she has?\n"
   ]
  },
  {
   "cell_type": "code",
   "execution_count": 4,
   "id": "80fedeeb",
   "metadata": {},
   "outputs": [
    {
     "name": "stdout",
     "output_type": "stream",
     "text": [
      "2\n",
      "50 Rs note are  6\n",
      "20 Rs note are  10\n",
      "10 Rs note are  9\n"
     ]
    }
   ],
   "source": [
    "\"\"\"\n",
    "Assume 50 Rs note be 3x, 20 Rs note will be 5x and 10 Rs note as (25-8x) \n",
    "Total denomination=590 \n",
    "then\n",
    "50(3x)+20(5x)+10(25-8x)=590 \n",
    "150x+100x-80x+250=590 \n",
    "170x=340 \n",
    "x=2 \n",
    "50 Rs note are 3x=32=6 \n",
    "20 Rs note are 5x=52=10 \n",
    "10 Rs note are 25-16=9.\n",
    "\"\"\"\n",
    "\n",
    "import sympy as sym\n",
    "eq=150*x+100*x+250-80*x-590\n",
    "x=sym.symbols('x')\n",
    "xv=sym.solve(eq,x)\n",
    "s=\"\"\n",
    "for i in xv:\n",
    "    s+=str(i)\n",
    "\n",
    "x=int(s)\n",
    "print(x)\n",
    "\n",
    "print(\"50 Rs note are \" ,3*x)\n",
    "print(\"20 Rs note are \" ,5*x)\n",
    "print(\"10 Rs note are \" ,25-8*x)"
   ]
  },
  {
   "cell_type": "markdown",
   "id": "a902e337",
   "metadata": {},
   "source": [
    "Q3. The organizers of an essay competition decide that a winner in the competition gets a prize of 100 \n",
    "and a participant who does not win gets a prize of 25. The total prize money distributed is 3,000.\n",
    "Find the number of winners, if the total number of participants is 63."
   ]
  },
  {
   "cell_type": "code",
   "execution_count": 6,
   "id": "9af70436",
   "metadata": {},
   "outputs": [
    {
     "name": "stdout",
     "output_type": "stream",
     "text": [
      "19\n",
      "total no of winners are -  19\n"
     ]
    }
   ],
   "source": [
    "\"\"\"\n",
    "Let x be the number of winners.\n",
    "\n",
    "Then participants who do not win is (63 – x)\n",
    "\n",
    "The prize money given to x winners = Rs ( 100x)\n",
    "\n",
    "The prize money given to (63 – x) participants is = Rs 25(63 – x)\n",
    "\n",
    "According to the given data, the total prize money distributed = Rs 3000\n",
    "\n",
    "Therefore, 100x + 25(63 – x) = 3000 -> x=19\n",
    "\"\"\"\n",
    "eq=100*x +25*(63-x)-3000\n",
    "x=sym.symbols('x')\n",
    "xv=sym.solve(eq,x)\n",
    "s=\"\"\n",
    "for i in xv:\n",
    "    s+=str(i)\n",
    "\n",
    "x=int(s)\n",
    "print(x)\n",
    "print('total no of winners are - ',x)\n"
   ]
  },
  {
   "cell_type": "markdown",
   "id": "2456a73d",
   "metadata": {},
   "source": [
    "Q4. The sum of three consecutive multiples of 11 is 363. Find these multiples."
   ]
  },
  {
   "cell_type": "code",
   "execution_count": 8,
   "id": "bc4b27fc",
   "metadata": {},
   "outputs": [
    {
     "name": "stdout",
     "output_type": "stream",
     "text": [
      "10\n",
      "1st consecutive number -  110\n",
      "2nd consecutive number -  121\n",
      "3rd consecutive number -  132\n"
     ]
    }
   ],
   "source": [
    "\"\"\"\n",
    "11x + 11y + 11z = 363\n",
    "11x + 11(x +1) + 11(x + 2) = 363\n",
    "33x + 33 = 363\n",
    "33x = 330\n",
    "x=10\n",
    "11(10)=110, 11(10 + 1)=121 and 11(10 + 2)=132\n",
    "\"\"\"\n",
    "\n",
    "eq=33*x + 33-363\n",
    "x=sym.symbols('x')\n",
    "xv=sym.solve(eq,x)\n",
    "s=\"\"\n",
    "for i in xv:\n",
    "    s+=str(i)\n",
    "\n",
    "x=int(s)\n",
    "print(x)\n",
    "print('1st consecutive number - ' ,11*x)\n",
    "print('2nd consecutive number - ' ,11*(x+1))\n",
    "print('3rd consecutive number - ' ,11*(x+2))"
   ]
  },
  {
   "cell_type": "markdown",
   "id": "2de1c0f3",
   "metadata": {},
   "source": [
    "Q5.The digits of a two-digit number differ by 3. If the digits are interchanged, and the resulting number is added to the original number, we get 143. What can be the original number?"
   ]
  },
  {
   "cell_type": "code",
   "execution_count": 14,
   "id": "820affc9",
   "metadata": {},
   "outputs": [
    {
     "name": "stdout",
     "output_type": "stream",
     "text": [
      "the original number is - 85\n"
     ]
    }
   ],
   "source": [
    "\"\"\"\n",
    "let the digit be xy diff - x-y=3 ->(eq1) \n",
    "numbers are interchanged and the resulting number is added to the original number we get 143 \n",
    "10x + y + 10y + x = 143 \n",
    "11x + 11y = 143 \n",
    "x + y = 13 (eq 2)\n",
    "\"\"\"\n",
    "\n",
    "\n",
    "from sympy import symbols\n",
    "x, y = symbols('x y')\n",
    "eq1=x-y-3\n",
    "eq2=x+y-13\n",
    "sol=solve((eq1,eq2),(x,y))  #dict\n",
    "values=sol.values() #storing values\n",
    "values_list=list(values) #converting to list\n",
    "x=values_list[0]\n",
    "y=values_list[1]\n",
    "print(\"the original number is - \" + str(x) +str(y) )\n"
   ]
  },
  {
   "cell_type": "markdown",
   "id": "eeb3c8a0",
   "metadata": {},
   "source": [
    "Q6. find x"
   ]
  },
  {
   "cell_type": "code",
   "execution_count": 11,
   "id": "d0538167",
   "metadata": {},
   "outputs": [
    {
     "data": {
      "text/plain": [
       "[2.50000000000000]"
      ]
     },
     "execution_count": 11,
     "metadata": {},
     "output_type": "execute_result"
    }
   ],
   "source": [
    "x=sym.symbols('x')\n",
    "sym.solve(x+14-6*x+2-7/2,x)"
   ]
  },
  {
   "cell_type": "markdown",
   "id": "83104d9f",
   "metadata": {},
   "source": [
    "Q7. Find the area of the region included between the parabola y^2 = x and the line x + y = 2\n",
    "and the X-axis."
   ]
  },
  {
   "cell_type": "code",
   "execution_count": null,
   "id": "3be4d259",
   "metadata": {},
   "outputs": [],
   "source": []
  },
  {
   "cell_type": "markdown",
   "id": "22856531",
   "metadata": {},
   "source": [
    "Q8. A manufacturer produces three models of toys in the form of bikes say X,Y and Z. \n",
    "Model X takes as 10 man-hour to make per unit, Model Y takes 5 man-hour per unit\n",
    "and model Z takes 4 man-hour per unit. There are a total 212 man-hour available per week. \n",
    "Handling and marketing costs are <20, <30 and <40 per unit for models X,Y\n",
    "and Z respectively. The total funds available for these purposes are <920 per week. Profits\n",
    "per unit for models X,Y and Z are <40, <10and <70 respectively, but at the end of the\n",
    "week, company get a profit of <810. Solve the system of equations by matrix method."
   ]
  },
  {
   "cell_type": "code",
   "execution_count": 17,
   "id": "9e08767d",
   "metadata": {},
   "outputs": [
    {
     "name": "stdout",
     "output_type": "stream",
     "text": [
      "Solutions:\n",
      " [10. 20.  3.]\n"
     ]
    }
   ],
   "source": [
    "import scipy.linalg as linalg \n",
    "import numpy as np\n",
    "A = np.array([[10, 5, 4],\n",
    " [20, 30, 40],\n",
    " [40, 10, 70]]) \n",
    "\n",
    "\n",
    "B = np.array([212,920,810]) \n",
    "print(\"Solutions:\\n\",np.linalg.solve(A, B ) )"
   ]
  },
  {
   "cell_type": "markdown",
   "id": "158242a1",
   "metadata": {},
   "source": [
    "Q9. inverse trigonometry prove that"
   ]
  },
  {
   "cell_type": "code",
   "execution_count": null,
   "id": "8e557e51",
   "metadata": {},
   "outputs": [],
   "source": []
  },
  {
   "cell_type": "code",
   "execution_count": null,
   "id": "171e4d27",
   "metadata": {},
   "outputs": [],
   "source": []
  }
 ],
 "metadata": {
  "kernelspec": {
   "display_name": "Python 3 (ipykernel)",
   "language": "python",
   "name": "python3"
  },
  "language_info": {
   "codemirror_mode": {
    "name": "ipython",
    "version": 3
   },
   "file_extension": ".py",
   "mimetype": "text/x-python",
   "name": "python",
   "nbconvert_exporter": "python",
   "pygments_lexer": "ipython3",
   "version": "3.9.12"
  }
 },
 "nbformat": 4,
 "nbformat_minor": 5
}
