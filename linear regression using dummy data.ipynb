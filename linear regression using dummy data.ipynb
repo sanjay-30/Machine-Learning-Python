{
 "cells": [
  {
   "cell_type": "code",
   "execution_count": 1,
   "id": "f55f741e",
   "metadata": {},
   "outputs": [],
   "source": [
    "import pandas as pd\n",
    "import numpy as np \n",
    "import matplotlib.pyplot as plt"
   ]
  },
  {
   "cell_type": "code",
   "execution_count": 7,
   "id": "fa1359ee",
   "metadata": {},
   "outputs": [],
   "source": [
    "# creating a dummy dataset\n",
    "np.random.seed(10)\n",
    "x = np.random.rand(40, 1)\n",
    "y = 3 + 3 * x + np.random.rand(40, 1)"
   ]
  },
  {
   "cell_type": "code",
   "execution_count": 10,
   "id": "355dca4a",
   "metadata": {},
   "outputs": [
    {
     "name": "stdout",
     "output_type": "stream",
     "text": [
      "data in x\n",
      "\n",
      "[[0.77132064]\n",
      " [0.02075195]\n",
      " [0.63364823]\n",
      " [0.74880388]\n",
      " [0.49850701]\n",
      " [0.22479665]\n",
      " [0.19806286]\n",
      " [0.76053071]\n",
      " [0.16911084]\n",
      " [0.08833981]\n",
      " [0.68535982]\n",
      " [0.95339335]\n",
      " [0.00394827]\n",
      " [0.51219226]\n",
      " [0.81262096]\n",
      " [0.61252607]\n",
      " [0.72175532]\n",
      " [0.29187607]\n",
      " [0.91777412]\n",
      " [0.71457578]\n",
      " [0.54254437]\n",
      " [0.14217005]\n",
      " [0.37334076]\n",
      " [0.67413362]\n",
      " [0.44183317]\n",
      " [0.43401399]\n",
      " [0.61776698]\n",
      " [0.51313824]\n",
      " [0.65039718]\n",
      " [0.60103895]\n",
      " [0.8052232 ]\n",
      " [0.52164715]\n",
      " [0.90864888]\n",
      " [0.31923609]\n",
      " [0.09045935]\n",
      " [0.30070006]\n",
      " [0.11398436]\n",
      " [0.82868133]\n",
      " [0.04689632]\n",
      " [0.62628715]]\n",
      "data in y\n",
      "\n",
      "[[5.86154809]\n",
      " [3.88154284]\n",
      " [5.09989224]\n",
      " [6.10326195]\n",
      " [4.84717368]\n",
      " [4.42903763]\n",
      " [3.8901503 ]\n",
      " [6.16552862]\n",
      " [3.83284415]\n",
      " [3.43003534]\n",
      " [5.4486087 ]\n",
      " [5.95364041]\n",
      " [3.83295046]\n",
      " [4.68772881]\n",
      " [5.82197733]\n",
      " [5.78183891]\n",
      " [6.15289143]\n",
      " [4.33193275]\n",
      " [6.57944521]\n",
      " [5.39510148]\n",
      " [5.22500475]\n",
      " [4.3293419 ]\n",
      " [4.65458023]\n",
      " [5.61260221]\n",
      " [4.36478129]\n",
      " [4.65922374]\n",
      " [4.93291403]\n",
      " [4.84487465]\n",
      " [5.28191086]\n",
      " [5.57694716]\n",
      " [5.4556288 ]\n",
      " [4.99443364]\n",
      " [6.04087351]\n",
      " [4.59419941]\n",
      " [3.6177252 ]\n",
      " [3.94519753]\n",
      " [4.22186826]\n",
      " [6.24928457]\n",
      " [4.0187856 ]\n",
      " [5.29637059]]\n"
     ]
    }
   ],
   "source": [
    "print('data in x\\n')\n",
    "print(x)\n",
    "print('data in y\\n')\n",
    "print(y)\n"
   ]
  },
  {
   "cell_type": "code",
   "execution_count": 15,
   "id": "fafba61b",
   "metadata": {},
   "outputs": [
    {
     "data": {
      "image/png": "[encoded data removed]",
      "text/plain": [
       "<Figure size 432x288 with 1 Axes>"
      ]
     },
     "metadata": {
      "needs_background": "light"
     },
     "output_type": "display_data"
    }
   ],
   "source": [
    "#scatterplot\n",
    "\n",
    "plt.scatter(x,y,s=10)\n",
    "plt.xlabel('x_points')\n",
    "plt.ylabel('y_points')\n",
    "plt.show()"
   ]
  },
  {
   "cell_type": "code",
   "execution_count": 16,
   "id": "3151c4ba",
   "metadata": {},
   "outputs": [
    {
     "data": {
      "text/plain": [
       "LinearRegression()"
      ]
     },
     "execution_count": 16,
     "metadata": {},
     "output_type": "execute_result"
    }
   ],
   "source": [
    "#creating a model\n",
    "from sklearn.linear_model import LinearRegression\n",
    "\n",
    "# creating a object\n",
    "regressor = LinearRegression()\n",
    "\n",
    "#training the model\n",
    "regressor.fit(x, y)"
   ]
  },
  {
   "cell_type": "code",
   "execution_count": 19,
   "id": "2d7fa6b0",
   "metadata": {},
   "outputs": [],
   "source": [
    "#using the training dataset for the prediction\n",
    "pred = regressor.predict(x)"
   ]
  },
  {
   "cell_type": "code",
   "execution_count": 29,
   "id": "22c4b172",
   "metadata": {},
   "outputs": [
    {
     "data": {
      "text/plain": [
       "[<matplotlib.lines.Line2D at 0x27a207acd00>]"
      ]
     },
     "execution_count": 29,
     "metadata": {},
     "output_type": "execute_result"
    },
    {
     "data": {
      "image/png": "[encoded data removed]",
      "text/plain": [
       "<Figure size 432x288 with 1 Axes>"
      ]
     },
     "metadata": {
      "needs_background": "light"
     },
     "output_type": "display_data"
    }
   ],
   "source": [
    "#model performance\n",
    "from sklearn.metrics import r2_score, mean_squared_error\n",
    "mse = mean_squared_error(y, pred)\n",
    "r2 = r2_score(y, pred)\n",
    "#Best fit \n",
    "plt.scatter(x, y, s=10)\n",
    "plt.plot(x, pred, color = 'green', marker = 'o')"
   ]
  },
  {
   "cell_type": "code",
   "execution_count": 25,
   "id": "e2be95c7",
   "metadata": {},
   "outputs": [
    {
     "name": "stdout",
     "output_type": "stream",
     "text": [
      "Mean Squared Error :  0.08238139271498197\n",
      "R-Squared : 0.8819496012718107\n",
      "Y-intercept : [3.56527213]\n",
      "Slope : [[2.85706267]]\n"
     ]
    }
   ],
   "source": [
    "#Results\n",
    "print(\"Mean Squared Error : \", mse)\n",
    "print(\"R-Squared :\" , r2)\n",
    "print(\"Y-intercept :\"  , regressor.intercept_)\n",
    "print(\"Slope :\" , regressor.coef_)"
   ]
  },
  {
   "cell_type": "code",
   "execution_count": null,
   "id": "bf7119fa",
   "metadata": {},
   "outputs": [],
   "source": []
  }
 ],
 "metadata": {
  "kernelspec": {
   "display_name": "Python 3 (ipykernel)",
   "language": "python",
   "name": "python3"
  },
  "language_info": {
   "codemirror_mode": {
    "name": "ipython",
    "version": 3
   },
   "file_extension": ".py",
   "mimetype": "text/x-python",
   "name": "python",
   "nbconvert_exporter": "python",
   "pygments_lexer": "ipython3",
   "version": "3.9.12"
  }
 },
 "nbformat": 4,
 "nbformat_minor": 5
}
